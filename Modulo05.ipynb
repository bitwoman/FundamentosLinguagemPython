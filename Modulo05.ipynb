{
 "cells": [
  {
   "cell_type": "markdown",
   "id": "8de81c28",
   "metadata": {},
   "source": [
    "# CONDICIONAIS"
   ]
  },
  {
   "cell_type": "code",
   "execution_count": 2,
   "id": "6879d906",
   "metadata": {},
   "outputs": [
    {
     "name": "stdout",
     "output_type": "stream",
     "text": [
      "Você foi aprovado em Data Science com média final 90!\n"
     ]
    }
   ],
   "source": [
    "# Usando mais de uma condição na cláusula if e introduzindo placeholders\n",
    "disciplina = 'Data Science'\n",
    "nota_final = 90\n",
    "semestre = 2\n",
    "\n",
    "if disciplina == 'Data Science' and nota_final >= 80 and semestre != 1:\n",
    "    print('Você foi aprovado em %s com média final %r!' %(disciplina, nota_final))\n",
    "else:\n",
    "    print('Lamento, acho que você precisa estudar mais')\n",
    "    \n",
    "    \n",
    "# placeholder (guardador de lugar) 1: %s > string\n",
    "# placeholder (guardador de lugar) 2: %r > número "
   ]
  },
  {
   "cell_type": "markdown",
   "id": "7fb30bf7",
   "metadata": {},
   "source": [
    "Observe que %r não é exclusivo para strings; ele pode ser usado para exibir representações brutas de vários tipos de objetos."
   ]
  },
  {
   "cell_type": "markdown",
   "id": "18d6a1d5",
   "metadata": {},
   "source": [
    "# LOOP FOR"
   ]
  },
  {
   "cell_type": "code",
   "execution_count": 3,
   "id": "b567dea9",
   "metadata": {},
   "outputs": [
    {
     "name": "stdout",
     "output_type": "stream",
     "text": [
      "\n",
      " 0\n",
      "\n",
      " 0\n",
      "\n",
      " 0\n",
      "-----\n",
      "\n",
      " 1\n",
      "\n",
      " 2\n",
      "\n",
      " 3\n",
      "-----\n",
      "\n",
      " 2\n",
      "\n",
      " 4\n",
      "\n",
      " 6\n",
      "-----\n",
      "\n",
      " 3\n",
      "\n",
      " 6\n",
      "\n",
      " 9\n",
      "-----\n",
      "\n",
      " 4\n",
      "\n",
      " 8\n",
      "\n",
      " 12\n",
      "-----\n"
     ]
    }
   ],
   "source": [
    "# LOOPS ANINHADOS\n",
    "lista1 = [0,1,2,3,4]\n",
    "lista2 = [1,2,3]\n",
    "\n",
    "# loop externo\n",
    "for elemento_lista1 in lista1:\n",
    "    # loop interno \n",
    "    for elemento_lista2 in lista2: # percorre todos os elementos do loop interno, para depois seguir com o loop externo\n",
    "        print('\\n', elemento_lista1 * elemento_lista2)\n",
    "        \n",
    "    print('-----')"
   ]
  },
  {
   "cell_type": "code",
   "execution_count": 6,
   "id": "cecd22a4",
   "metadata": {},
   "outputs": [
    {
     "name": "stdout",
     "output_type": "stream",
     "text": [
      "215\n"
     ]
    }
   ],
   "source": [
    "# loop em matrizes para encontrar o maior número\n",
    "matriz = [[42,23,34],\n",
    "          [100,215,114],\n",
    "          [10.1,98.7, 12.3]\n",
    "         ]\n",
    "maior_numero = 0\n",
    "\n",
    "# loop externo > linha a linha da matriz\n",
    "for linha in matriz:\n",
    "\n",
    "    #loop interno > elemento de cada linha da matriz\n",
    "    for i in linha:\n",
    "        # condicional\n",
    "        if i > maior_numero:\n",
    "            maior_numero = i\n",
    "            \n",
    "print(maior_numero)"
   ]
  },
  {
   "cell_type": "code",
   "execution_count": 7,
   "id": "f702bf83",
   "metadata": {},
   "outputs": [
    {
     "name": "stdout",
     "output_type": "stream",
     "text": [
      "k1 Python\n",
      "k2 R\n",
      "k3 Java\n"
     ]
    }
   ],
   "source": [
    "# listando chave-valor de um dicionário com um loop for\n",
    "dicionario = {'k1':'Python', 'k2':'R', 'k3':'Java'}\n",
    "\n",
    "for k,v in dicionario.items():\n",
    "    print(k,v)"
   ]
  },
  {
   "cell_type": "markdown",
   "id": "a431fcd1",
   "metadata": {},
   "source": [
    "# While"
   ]
  },
  {
   "cell_type": "code",
   "execution_count": 14,
   "id": "6047c951",
   "metadata": {},
   "outputs": [
    {
     "name": "stdout",
     "output_type": "stream",
     "text": [
      "Python é zzz incrível"
     ]
    }
   ],
   "source": [
    "# utilizando continue (existe o pass, o continue, e o break)\n",
    "for letra in 'Python é zzz incrível':\n",
    "    if letra == 'z':\n",
    "        continue\n",
    "    print(letra, end='') "
   ]
  },
  {
   "cell_type": "markdown",
   "id": "625d9398",
   "metadata": {},
   "source": [
    "Em resumo, pass é usado quando você precisa de uma instrução vazia (sem ação), enquanto continue é usado para pular o restante do código dentro de um loop e passar para a próxima iteração."
   ]
  },
  {
   "cell_type": "markdown",
   "id": "31580e46",
   "metadata": {},
   "source": [
    "# WHILE E FOR"
   ]
  },
  {
   "cell_type": "code",
   "execution_count": 6,
   "id": "a05004ed",
   "metadata": {},
   "outputs": [
    {
     "name": "stdout",
     "output_type": "stream",
     "text": [
      "2\n",
      "3\n",
      "5\n",
      "7\n",
      "11\n",
      "13\n",
      "17\n",
      "19\n",
      "23\n",
      "29\n",
      "\n",
      " [2, 3, 5, 7, 11, 13, 17, 19, 23, 29]\n",
      "Wall time: 0 ns\n"
     ]
    }
   ],
   "source": [
    "%%time \n",
    "# jupyter notebook > mede o tempo de execução da célula\n",
    "\n",
    "# encontrando números primos entre 2 e 30 usando loop for e while\n",
    "\n",
    "# lista para armazenar os números primos\n",
    "primos = []\n",
    "\n",
    "# loop para percorrer os números de 2 à 30\n",
    "for x in range(2,31):\n",
    "\n",
    "    # variável de controle\n",
    "    eh_primo = True\n",
    "    \n",
    "    # loop while para verificar se o número é primo\n",
    "    i = 2\n",
    "    \n",
    "    while i<= x//2:\n",
    "        if x % i == 0:\n",
    "            eh_primo = False\n",
    "            break\n",
    "        i += 1\n",
    "        \n",
    "    # adicionando o número primo na lista\n",
    "    if eh_primo:\n",
    "        primos.append(x)\n",
    "        \n",
    "print('\\n', primos)"
   ]
  },
  {
   "cell_type": "markdown",
   "id": "fde96839",
   "metadata": {},
   "source": [
    "# MÉTODOS\n",
    "\n",
    "Tudo em python é objeto. E cada objeto tem métodos e atributos.\n",
    "- Atributos são propriedades, características do objeto;\n",
    "- Métodos são funções com ações que podem ser executadas nos objetos."
   ]
  },
  {
   "cell_type": "code",
   "execution_count": 8,
   "id": "b50c825c",
   "metadata": {},
   "outputs": [],
   "source": [
    "# criando lista\n",
    "lista = [100,-2,12,65,0]"
   ]
  },
  {
   "cell_type": "code",
   "execution_count": 10,
   "id": "f44811ac",
   "metadata": {},
   "outputs": [
    {
     "data": {
      "text/plain": [
       "1"
      ]
     },
     "execution_count": 10,
     "metadata": {},
     "output_type": "execute_result"
    }
   ],
   "source": [
    "# usando um método do objeto lista\n",
    "lista.count(100)"
   ]
  },
  {
   "cell_type": "code",
   "execution_count": 13,
   "id": "0713ecfd",
   "metadata": {},
   "outputs": [
    {
     "name": "stdout",
     "output_type": "stream",
     "text": [
      "Help on built-in function count:\n",
      "\n",
      "count(value, /) method of builtins.list instance\n",
      "    Return number of occurrences of value.\n",
      "\n"
     ]
    }
   ],
   "source": [
    "# a função help() explica como utilizar cada método de um objeto\n",
    "help(lista.count)"
   ]
  },
  {
   "cell_type": "code",
   "execution_count": 15,
   "id": "896093c0",
   "metadata": {},
   "outputs": [
    {
     "data": {
      "text/plain": [
       "['__add__',\n",
       " '__class__',\n",
       " '__class_getitem__',\n",
       " '__contains__',\n",
       " '__delattr__',\n",
       " '__delitem__',\n",
       " '__dir__',\n",
       " '__doc__',\n",
       " '__eq__',\n",
       " '__format__',\n",
       " '__ge__',\n",
       " '__getattribute__',\n",
       " '__getitem__',\n",
       " '__gt__',\n",
       " '__hash__',\n",
       " '__iadd__',\n",
       " '__imul__',\n",
       " '__init__',\n",
       " '__init_subclass__',\n",
       " '__iter__',\n",
       " '__le__',\n",
       " '__len__',\n",
       " '__lt__',\n",
       " '__mul__',\n",
       " '__ne__',\n",
       " '__new__',\n",
       " '__reduce__',\n",
       " '__reduce_ex__',\n",
       " '__repr__',\n",
       " '__reversed__',\n",
       " '__rmul__',\n",
       " '__setattr__',\n",
       " '__setitem__',\n",
       " '__sizeof__',\n",
       " '__str__',\n",
       " '__subclasshook__',\n",
       " 'append',\n",
       " 'clear',\n",
       " 'copy',\n",
       " 'count',\n",
       " 'extend',\n",
       " 'index',\n",
       " 'insert',\n",
       " 'pop',\n",
       " 'remove',\n",
       " 'reverse',\n",
       " 'sort']"
      ]
     },
     "execution_count": 15,
     "metadata": {},
     "output_type": "execute_result"
    }
   ],
   "source": [
    "# a função dir() mostra todos os métodos e atributos de um objeto\n",
    "dir(lista) # métodos e atributos de uma lista"
   ]
  },
  {
   "cell_type": "markdown",
   "id": "05bf705e",
   "metadata": {},
   "source": [
    "# FUNÇÕES"
   ]
  },
  {
   "cell_type": "code",
   "execution_count": 16,
   "id": "7e28db40",
   "metadata": {},
   "outputs": [],
   "source": [
    "# definindo uma função\n",
    "def primeiraFunc():\n",
    "    print('Hello, World!')"
   ]
  },
  {
   "cell_type": "code",
   "execution_count": 18,
   "id": "998aee8c",
   "metadata": {},
   "outputs": [
    {
     "name": "stdout",
     "output_type": "stream",
     "text": [
      "Hello, World!\n"
     ]
    }
   ],
   "source": [
    "primeiraFunc()"
   ]
  },
  {
   "cell_type": "code",
   "execution_count": 20,
   "id": "0747c67b",
   "metadata": {},
   "outputs": [],
   "source": [
    "# definindo uma função\n",
    "def segundaFunc():\n",
    "    nome = 'Brenda'\n",
    "    print('Hello, %s' %(nome))"
   ]
  },
  {
   "cell_type": "code",
   "execution_count": 22,
   "id": "4dc283ea",
   "metadata": {},
   "outputs": [
    {
     "name": "stdout",
     "output_type": "stream",
     "text": [
      "Hello, Brenda\n"
     ]
    }
   ],
   "source": [
    "segundaFunc()"
   ]
  },
  {
   "cell_type": "code",
   "execution_count": 23,
   "id": "c2bd9b75",
   "metadata": {},
   "outputs": [],
   "source": [
    "# definindo uma função com parâmetro\n",
    "def terceiraFunc(nome):\n",
    "    print('Hello, %s' %(nome))"
   ]
  },
  {
   "cell_type": "code",
   "execution_count": 25,
   "id": "bb50c871",
   "metadata": {},
   "outputs": [
    {
     "name": "stdout",
     "output_type": "stream",
     "text": [
      "Hello, Brenda\n"
     ]
    }
   ],
   "source": [
    "terceiraFunc('Brenda')"
   ]
  },
  {
   "cell_type": "code",
   "execution_count": 30,
   "id": "39bbc0ce",
   "metadata": {},
   "outputs": [],
   "source": [
    "# Funções com número variável de argumentos\n",
    "def printVarInfo(arg1, *vartuple):\n",
    "    \n",
    "    # imprimindo o valor do primeiro argumento\n",
    "    print('O parâmetro 1 passado foi: ', arg1)\n",
    "    \n",
    "    # imprimindo o valor do segundo argumento\n",
    "    for item in vartuple:\n",
    "        print('O parâmetro 2 (ou mais) passado foi: ', item)\n",
    "    \n",
    "    return;"
   ]
  },
  {
   "cell_type": "code",
   "execution_count": 31,
   "id": "ad3db523",
   "metadata": {},
   "outputs": [
    {
     "name": "stdout",
     "output_type": "stream",
     "text": [
      "O parâmetro 1 passado foi:  10\n"
     ]
    }
   ],
   "source": [
    "# fazendo a chamada da função usando apenas um argumento\n",
    "printVarInfo(10)"
   ]
  },
  {
   "cell_type": "code",
   "execution_count": 33,
   "id": "e7e1def4",
   "metadata": {},
   "outputs": [
    {
     "name": "stdout",
     "output_type": "stream",
     "text": [
      "O parâmetro 1 passado foi:  Chocolate\n",
      "O parâmetro 2 (ou mais) passado foi:  Morango\n",
      "O parâmetro 2 (ou mais) passado foi:  Picolé\n"
     ]
    }
   ],
   "source": [
    "# fazendo a chamada da função usando mais de um argumento\n",
    "printVarInfo('Chocolate', 'Morango', 'Picolé')"
   ]
  },
  {
   "cell_type": "markdown",
   "id": "313e6fdd",
   "metadata": {},
   "source": [
    "# ESCOPO DE VARIÁVEL LOCAL E GLOBAL"
   ]
  },
  {
   "cell_type": "code",
   "execution_count": 35,
   "id": "2f89221c",
   "metadata": {},
   "outputs": [],
   "source": [
    "# variável global\n",
    "var_global = 10 \n",
    "\n",
    "# função\n",
    "def multiplica_numeros(num1, num2):\n",
    "    var_local = num1 * num2\n",
    "    print(var_local)"
   ]
  },
  {
   "cell_type": "code",
   "execution_count": 37,
   "id": "eb352d34",
   "metadata": {},
   "outputs": [
    {
     "name": "stdout",
     "output_type": "stream",
     "text": [
      "4\n"
     ]
    }
   ],
   "source": [
    "multiplica_numeros(2,2)"
   ]
  },
  {
   "cell_type": "code",
   "execution_count": 40,
   "id": "953f5461",
   "metadata": {},
   "outputs": [
    {
     "name": "stdout",
     "output_type": "stream",
     "text": [
      "10\n"
     ]
    }
   ],
   "source": [
    "print(var_global)"
   ]
  },
  {
   "cell_type": "code",
   "execution_count": 42,
   "id": "b9f84023",
   "metadata": {},
   "outputs": [
    {
     "ename": "NameError",
     "evalue": "name 'var_local' is not defined",
     "output_type": "error",
     "traceback": [
      "\u001b[1;31m---------------------------------------------------------------------------\u001b[0m",
      "\u001b[1;31mNameError\u001b[0m                                 Traceback (most recent call last)",
      "\u001b[1;32m~\\AppData\\Local\\Temp\\ipykernel_8388\\3754798058.py\u001b[0m in \u001b[0;36m<module>\u001b[1;34m\u001b[0m\n\u001b[1;32m----> 1\u001b[1;33m \u001b[0mprint\u001b[0m\u001b[1;33m(\u001b[0m\u001b[0mvar_local\u001b[0m\u001b[1;33m)\u001b[0m \u001b[1;31m# vai dar erro, pois ela funciona apenas no escopo local, ou seja, onde ela foi definida que é dentro da função\u001b[0m\u001b[1;33m\u001b[0m\u001b[1;33m\u001b[0m\u001b[0m\n\u001b[0m",
      "\u001b[1;31mNameError\u001b[0m: name 'var_local' is not defined"
     ]
    }
   ],
   "source": [
    "print(var_local) # vai dar erro, pois ela funciona apenas no escopo local, ou seja, onde ela foi definida que é dentro da função"
   ]
  },
  {
   "cell_type": "markdown",
   "id": "f397498d",
   "metadata": {},
   "source": [
    "# Criando funções usando outras funções"
   ]
  },
  {
   "cell_type": "code",
   "execution_count": 47,
   "id": "7ac4f5c6",
   "metadata": {},
   "outputs": [],
   "source": [
    "import math \n",
    "\n",
    "# verificando se um número é primo\n",
    "\n",
    "def numPrimo(num):\n",
    "    if (num % 2) == 0 and num > 2:\n",
    "        return 'este número não é primo'\n",
    "    \n",
    "    for i in range(2, int(math.sqrt(num)) + 1):\n",
    "        if (num % i) == 0:\n",
    "            'este número não é primo'\n",
    "            \n",
    "    return 'este número é primo'"
   ]
  },
  {
   "cell_type": "code",
   "execution_count": 51,
   "id": "06ca0332",
   "metadata": {},
   "outputs": [
    {
     "data": {
      "text/plain": [
       "'este número é primo'"
      ]
     },
     "execution_count": 51,
     "metadata": {},
     "output_type": "execute_result"
    }
   ],
   "source": [
    "numPrimo(11)"
   ]
  },
  {
   "cell_type": "markdown",
   "id": "15759fe2",
   "metadata": {},
   "source": [
    "# FAZENDO SPLIT DOS DADOS"
   ]
  },
  {
   "cell_type": "code",
   "execution_count": 63,
   "id": "4c2c9550",
   "metadata": {},
   "outputs": [],
   "source": [
    "def split_string_palavras(texto):\n",
    "    return texto.split(' ')"
   ]
  },
  {
   "cell_type": "code",
   "execution_count": 64,
   "id": "3f0aaf38",
   "metadata": {},
   "outputs": [],
   "source": [
    "texto = 'Esta função é bastante útil para separar grandes volumes de dados'"
   ]
  },
  {
   "cell_type": "code",
   "execution_count": 65,
   "id": "970884eb",
   "metadata": {},
   "outputs": [
    {
     "data": {
      "text/plain": [
       "['Esta',\n",
       " 'função',\n",
       " 'é',\n",
       " 'bastante',\n",
       " 'útil',\n",
       " 'para',\n",
       " 'separar',\n",
       " 'grandes',\n",
       " 'volumes',\n",
       " 'de',\n",
       " 'dados']"
      ]
     },
     "execution_count": 65,
     "metadata": {},
     "output_type": "execute_result"
    }
   ],
   "source": [
    "split_string_palavras(texto)"
   ]
  },
  {
   "cell_type": "code",
   "execution_count": 67,
   "id": "f1697dd3",
   "metadata": {},
   "outputs": [],
   "source": [
    "# podemos atribuir um output de uma função para uma variável, que é chamado de token. \n",
    "# token > menor estrutura que se pode chegar vindo de um texto\n",
    "\n",
    "token = split_string_palavras(texto)"
   ]
  },
  {
   "cell_type": "code",
   "execution_count": 69,
   "id": "1da5115b",
   "metadata": {},
   "outputs": [
    {
     "data": {
      "text/plain": [
       "['Esta',\n",
       " 'função',\n",
       " 'é',\n",
       " 'bastante',\n",
       " 'útil',\n",
       " 'para',\n",
       " 'separar',\n",
       " 'grandes',\n",
       " 'volumes',\n",
       " 'de',\n",
       " 'dados']"
      ]
     },
     "execution_count": 69,
     "metadata": {},
     "output_type": "execute_result"
    }
   ],
   "source": [
    "token"
   ]
  },
  {
   "cell_type": "code",
   "execution_count": 71,
   "id": "29875c13",
   "metadata": {},
   "outputs": [],
   "source": [
    "# fazendo split dos dados\n",
    "\n",
    "def split_string_and_upper(texto):\n",
    "    texto = texto.upper()\n",
    "    for letra in texto:\n",
    "        print(letra, end=' ')"
   ]
  },
  {
   "cell_type": "code",
   "execution_count": 72,
   "id": "a3f666ce",
   "metadata": {},
   "outputs": [
    {
     "name": "stdout",
     "output_type": "stream",
     "text": [
      "E S T A   F U N Ç Ã O   É   B A S T A N T E   Ú T I L   P A R A   S E P A R A R   G R A N D E S   V O L U M E S   D E   D A D O S "
     ]
    }
   ],
   "source": [
    "split_string_and_upper(texto)"
   ]
  },
  {
   "cell_type": "markdown",
   "id": "319045ff",
   "metadata": {},
   "source": [
    "# FUNÇÃO LAMBDA"
   ]
  },
  {
   "cell_type": "code",
   "execution_count": 74,
   "id": "f645a126",
   "metadata": {},
   "outputs": [],
   "source": [
    "# DEFININDO UMA EXPRESSÃO LAMBDA (FUNÇÃO ANÔNIMA)\n",
    "potencia = lambda num: num ** 2"
   ]
  },
  {
   "cell_type": "code",
   "execution_count": 76,
   "id": "32fa202e",
   "metadata": {},
   "outputs": [
    {
     "data": {
      "text/plain": [
       "25"
      ]
     },
     "execution_count": 76,
     "metadata": {},
     "output_type": "execute_result"
    }
   ],
   "source": [
    "potencia(5)"
   ]
  },
  {
   "cell_type": "code",
   "execution_count": 78,
   "id": "0bd126b2",
   "metadata": {},
   "outputs": [],
   "source": [
    "first = lambda s: s[0]"
   ]
  },
  {
   "cell_type": "code",
   "execution_count": 80,
   "id": "4cb828cd",
   "metadata": {},
   "outputs": [
    {
     "data": {
      "text/plain": [
       "'P'"
      ]
     },
     "execution_count": 80,
     "metadata": {},
     "output_type": "execute_result"
    }
   ],
   "source": [
    "first('Python')"
   ]
  },
  {
   "cell_type": "code",
   "execution_count": 82,
   "id": "3cd79916",
   "metadata": {},
   "outputs": [],
   "source": [
    "reverso = lambda s: s[::-1]"
   ]
  },
  {
   "cell_type": "code",
   "execution_count": 84,
   "id": "dc7b5834",
   "metadata": {},
   "outputs": [
    {
     "data": {
      "text/plain": [
       "'nohtyP'"
      ]
     },
     "execution_count": 84,
     "metadata": {},
     "output_type": "execute_result"
    }
   ],
   "source": [
    "reverso('Python')"
   ]
  },
  {
   "cell_type": "markdown",
   "id": "f1a0df8b",
   "metadata": {},
   "source": [
    "# LIST COMPREHENSION\n",
    "\n",
    "['expressão que retorna' for item in iterable if condição == True]"
   ]
  },
  {
   "cell_type": "code",
   "execution_count": 86,
   "id": "b9811181",
   "metadata": {},
   "outputs": [
    {
     "data": {
      "text/plain": [
       "[0, 1, 2, 3, 4, 5, 6, 7, 8, 9]"
      ]
     },
     "execution_count": 86,
     "metadata": {},
     "output_type": "execute_result"
    }
   ],
   "source": [
    "# list comprehension que imprime os números até 10 \n",
    "[x for x in range(10)]"
   ]
  },
  {
   "cell_type": "code",
   "execution_count": 88,
   "id": "8b2e4190",
   "metadata": {},
   "outputs": [
    {
     "name": "stdout",
     "output_type": "stream",
     "text": [
      "[0, 1, 2, 3, 4]\n"
     ]
    }
   ],
   "source": [
    "# list comprehension que imprime os números menores do que 5 e em um intervalo de 1 até 10 \n",
    "lista_numeros = [x for x in range(10) if x <5]\n",
    "print(lista_numeros)"
   ]
  },
  {
   "cell_type": "markdown",
   "id": "2e0c3c3a",
   "metadata": {},
   "source": [
    "# DICT COMPREHENSION"
   ]
  },
  {
   "cell_type": "code",
   "execution_count": 90,
   "id": "fae12b3e",
   "metadata": {},
   "outputs": [],
   "source": [
    "# dicionário de alunos e notas\n",
    "dict_alunos = {'Bob':68, 'Michel':84, 'Zico':57, 'Ana':93}\n",
    "\n",
    "# criamos um novo dicionário imprimindo os pares de chave:valor\n",
    "dict_alunos_status = {k:v for (k,v) in dict_alunos.items()}"
   ]
  },
  {
   "cell_type": "code",
   "execution_count": 92,
   "id": "4c947595",
   "metadata": {},
   "outputs": [
    {
     "name": "stdout",
     "output_type": "stream",
     "text": [
      "{'Bob': 68, 'Michel': 84, 'Zico': 57, 'Ana': 93}\n"
     ]
    }
   ],
   "source": [
    "print(dict_alunos_status)"
   ]
  },
  {
   "cell_type": "code",
   "execution_count": 94,
   "id": "7318a6f8",
   "metadata": {},
   "outputs": [
    {
     "name": "stdout",
     "output_type": "stream",
     "text": [
      "{'Bob': 'Reprovado', 'Michel': 'Aprovado', 'Zico': 'Reprovado', 'Ana': 'Aprovado'}\n"
     ]
    }
   ],
   "source": [
    "# criamos um novo dicionário com o status: nota maior que 70, aprovado, senão, reprovado\n",
    "dict_alunos_status = {k: ('Aprovado' if v > 70 else 'Reprovado') for (k,v) in dict_alunos.items()}\n",
    "print(dict_alunos_status)"
   ]
  },
  {
   "cell_type": "markdown",
   "id": "c969f30f",
   "metadata": {},
   "source": [
    "# EXERCÍCIOS"
   ]
  },
  {
   "cell_type": "code",
   "execution_count": null,
   "id": "e2867de0",
   "metadata": {},
   "outputs": [],
   "source": []
  }
 ],
 "metadata": {
  "kernelspec": {
   "display_name": "Python 3 (ipykernel)",
   "language": "python",
   "name": "python3"
  },
  "language_info": {
   "codemirror_mode": {
    "name": "ipython",
    "version": 3
   },
   "file_extension": ".py",
   "mimetype": "text/x-python",
   "name": "python",
   "nbconvert_exporter": "python",
   "pygments_lexer": "ipython3",
   "version": "3.9.13"
  }
 },
 "nbformat": 4,
 "nbformat_minor": 5
}
