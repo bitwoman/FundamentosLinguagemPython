{
 "cells": [
  {
   "cell_type": "markdown",
   "id": "e80874a4",
   "metadata": {},
   "source": [
    "# Operações Aritméticas"
   ]
  },
  {
   "cell_type": "code",
   "execution_count": 2,
   "id": "e5f59681",
   "metadata": {},
   "outputs": [
    {
     "data": {
      "text/plain": [
       "4"
      ]
     },
     "execution_count": 2,
     "metadata": {},
     "output_type": "execute_result"
    }
   ],
   "source": [
    "# Soma\n",
    "2 + 2"
   ]
  },
  {
   "cell_type": "code",
   "execution_count": 4,
   "id": "bfee250c",
   "metadata": {},
   "outputs": [
    {
     "data": {
      "text/plain": [
       "0"
      ]
     },
     "execution_count": 4,
     "metadata": {},
     "output_type": "execute_result"
    }
   ],
   "source": [
    "# Subtração \n",
    "2 - 2"
   ]
  },
  {
   "cell_type": "code",
   "execution_count": 6,
   "id": "15dfd0da",
   "metadata": {},
   "outputs": [
    {
     "data": {
      "text/plain": [
       "4"
      ]
     },
     "execution_count": 6,
     "metadata": {},
     "output_type": "execute_result"
    }
   ],
   "source": [
    "# Multiplicação \n",
    "2 * 2"
   ]
  },
  {
   "cell_type": "code",
   "execution_count": 8,
   "id": "c74ec793",
   "metadata": {},
   "outputs": [
    {
     "data": {
      "text/plain": [
       "1.5"
      ]
     },
     "execution_count": 8,
     "metadata": {},
     "output_type": "execute_result"
    }
   ],
   "source": [
    "# Divisão \n",
    "3 / 2"
   ]
  },
  {
   "cell_type": "code",
   "execution_count": 10,
   "id": "b6b466a5",
   "metadata": {},
   "outputs": [
    {
     "data": {
      "text/plain": [
       "16"
      ]
     },
     "execution_count": 10,
     "metadata": {},
     "output_type": "execute_result"
    }
   ],
   "source": [
    "# Potência \n",
    "4 ** 2"
   ]
  },
  {
   "cell_type": "code",
   "execution_count": 12,
   "id": "72df7286",
   "metadata": {},
   "outputs": [
    {
     "data": {
      "text/plain": [
       "1"
      ]
     },
     "execution_count": 12,
     "metadata": {},
     "output_type": "execute_result"
    }
   ],
   "source": [
    "# Módulo > resto da divisão\n",
    "10 % 3"
   ]
  },
  {
   "cell_type": "markdown",
   "id": "fba5927b",
   "metadata": {},
   "source": [
    "# Função Type"
   ]
  },
  {
   "cell_type": "code",
   "execution_count": 14,
   "id": "adfe034e",
   "metadata": {},
   "outputs": [
    {
     "data": {
      "text/plain": [
       "int"
      ]
     },
     "execution_count": 14,
     "metadata": {},
     "output_type": "execute_result"
    }
   ],
   "source": [
    "type(5)"
   ]
  },
  {
   "cell_type": "code",
   "execution_count": 16,
   "id": "01299edf",
   "metadata": {},
   "outputs": [
    {
     "data": {
      "text/plain": [
       "float"
      ]
     },
     "execution_count": 16,
     "metadata": {},
     "output_type": "execute_result"
    }
   ],
   "source": [
    "type(5.0)"
   ]
  },
  {
   "cell_type": "code",
   "execution_count": 18,
   "id": "7c65e71b",
   "metadata": {},
   "outputs": [
    {
     "data": {
      "text/plain": [
       "str"
      ]
     },
     "execution_count": 18,
     "metadata": {},
     "output_type": "execute_result"
    }
   ],
   "source": [
    "string = 'estou estudando python'\n",
    "type(string)"
   ]
  },
  {
   "cell_type": "markdown",
   "id": "0cfc74c5",
   "metadata": {},
   "source": [
    "# Operações com números Float"
   ]
  },
  {
   "cell_type": "code",
   "execution_count": 20,
   "id": "bfbf470e",
   "metadata": {},
   "outputs": [
    {
     "data": {
      "text/plain": [
       "9.5"
      ]
     },
     "execution_count": 20,
     "metadata": {},
     "output_type": "execute_result"
    }
   ],
   "source": [
    "3.1 + 6.4"
   ]
  },
  {
   "cell_type": "code",
   "execution_count": 22,
   "id": "3e70d19e",
   "metadata": {},
   "outputs": [
    {
     "data": {
      "text/plain": [
       "8.0"
      ]
     },
     "execution_count": 22,
     "metadata": {},
     "output_type": "execute_result"
    }
   ],
   "source": [
    "4 + 4.0"
   ]
  },
  {
   "cell_type": "code",
   "execution_count": 24,
   "id": "3b0434af",
   "metadata": {},
   "outputs": [
    {
     "data": {
      "text/plain": [
       "8"
      ]
     },
     "execution_count": 24,
     "metadata": {},
     "output_type": "execute_result"
    }
   ],
   "source": [
    "4 + 4"
   ]
  },
  {
   "cell_type": "code",
   "execution_count": 25,
   "id": "9eba93a0",
   "metadata": {},
   "outputs": [
    {
     "data": {
      "text/plain": [
       "2.0"
      ]
     },
     "execution_count": 25,
     "metadata": {},
     "output_type": "execute_result"
    }
   ],
   "source": [
    "# Resultado é um número float\n",
    "4 / 2"
   ]
  },
  {
   "cell_type": "code",
   "execution_count": 26,
   "id": "6ec8d116",
   "metadata": {},
   "outputs": [
    {
     "data": {
      "text/plain": [
       "1.3333333333333333"
      ]
     },
     "execution_count": 26,
     "metadata": {},
     "output_type": "execute_result"
    }
   ],
   "source": [
    "# Resultado é um número inteiro \n",
    "4 / 3.0"
   ]
  },
  {
   "cell_type": "code",
   "execution_count": 27,
   "id": "c66ae4d1",
   "metadata": {},
   "outputs": [
    {
     "data": {
      "text/plain": [
       "1.0"
      ]
     },
     "execution_count": 27,
     "metadata": {},
     "output_type": "execute_result"
    }
   ],
   "source": [
    "4 // 3.0"
   ]
  },
  {
   "cell_type": "markdown",
   "id": "3f78aefc",
   "metadata": {},
   "source": [
    "# Conversões"
   ]
  },
  {
   "cell_type": "code",
   "execution_count": 31,
   "id": "140e71b8",
   "metadata": {},
   "outputs": [
    {
     "data": {
      "text/plain": [
       "9.0"
      ]
     },
     "execution_count": 31,
     "metadata": {},
     "output_type": "execute_result"
    }
   ],
   "source": [
    "float(9)"
   ]
  },
  {
   "cell_type": "code",
   "execution_count": 33,
   "id": "37defd32",
   "metadata": {},
   "outputs": [
    {
     "data": {
      "text/plain": [
       "6"
      ]
     },
     "execution_count": 33,
     "metadata": {},
     "output_type": "execute_result"
    }
   ],
   "source": [
    "int(6.0)"
   ]
  },
  {
   "cell_type": "code",
   "execution_count": 34,
   "id": "7bbd1a0d",
   "metadata": {},
   "outputs": [
    {
     "data": {
      "text/plain": [
       "6"
      ]
     },
     "execution_count": 34,
     "metadata": {},
     "output_type": "execute_result"
    }
   ],
   "source": [
    "int(6.5)"
   ]
  },
  {
   "cell_type": "markdown",
   "id": "3172e1c5",
   "metadata": {},
   "source": [
    "# Hexadecimal e binário"
   ]
  },
  {
   "cell_type": "code",
   "execution_count": 36,
   "id": "09b9d4e2",
   "metadata": {},
   "outputs": [
    {
     "data": {
      "text/plain": [
       "'0x18a'"
      ]
     },
     "execution_count": 36,
     "metadata": {},
     "output_type": "execute_result"
    }
   ],
   "source": [
    "hex(394)"
   ]
  },
  {
   "cell_type": "code",
   "execution_count": 38,
   "id": "04ffc6c6",
   "metadata": {},
   "outputs": [
    {
     "data": {
      "text/plain": [
       "'0xd9'"
      ]
     },
     "execution_count": 38,
     "metadata": {},
     "output_type": "execute_result"
    }
   ],
   "source": [
    "hex(217)"
   ]
  },
  {
   "cell_type": "code",
   "execution_count": 41,
   "id": "350e6613",
   "metadata": {},
   "outputs": [
    {
     "data": {
      "text/plain": [
       "'0b100011110'"
      ]
     },
     "execution_count": 41,
     "metadata": {},
     "output_type": "execute_result"
    }
   ],
   "source": [
    "bin(286)"
   ]
  },
  {
   "cell_type": "code",
   "execution_count": 43,
   "id": "d29933fe",
   "metadata": {},
   "outputs": [
    {
     "data": {
      "text/plain": [
       "'0b110000110'"
      ]
     },
     "execution_count": 43,
     "metadata": {},
     "output_type": "execute_result"
    }
   ],
   "source": [
    "bin(390)"
   ]
  },
  {
   "cell_type": "markdown",
   "id": "da1a4b64",
   "metadata": {},
   "source": [
    "# Funções abs, round e pow"
   ]
  },
  {
   "cell_type": "code",
   "execution_count": 45,
   "id": "77b5a228",
   "metadata": {},
   "outputs": [
    {
     "data": {
      "text/plain": [
       "8"
      ]
     },
     "execution_count": 45,
     "metadata": {},
     "output_type": "execute_result"
    }
   ],
   "source": [
    "# Retorna o valor absoluto\n",
    "abs(-8)"
   ]
  },
  {
   "cell_type": "code",
   "execution_count": 47,
   "id": "f30c9cd8",
   "metadata": {},
   "outputs": [
    {
     "data": {
      "text/plain": [
       "8"
      ]
     },
     "execution_count": 47,
     "metadata": {},
     "output_type": "execute_result"
    }
   ],
   "source": [
    "# Retorna o valor absoluto\n",
    "abs(8)"
   ]
  },
  {
   "cell_type": "code",
   "execution_count": 49,
   "id": "596878ec",
   "metadata": {},
   "outputs": [
    {
     "data": {
      "text/plain": [
       "3.14"
      ]
     },
     "execution_count": 49,
     "metadata": {},
     "output_type": "execute_result"
    }
   ],
   "source": [
    "# Retorna o valor com duas casas decimais\n",
    "round(3.14159265, 2)"
   ]
  },
  {
   "cell_type": "code",
   "execution_count": 51,
   "id": "8d73bd33",
   "metadata": {},
   "outputs": [
    {
     "data": {
      "text/plain": [
       "16"
      ]
     },
     "execution_count": 51,
     "metadata": {},
     "output_type": "execute_result"
    }
   ],
   "source": [
    "# Retorna a potência\n",
    "pow(4,2)"
   ]
  },
  {
   "cell_type": "code",
   "execution_count": 52,
   "id": "60846d19",
   "metadata": {},
   "outputs": [
    {
     "data": {
      "text/plain": [
       "125"
      ]
     },
     "execution_count": 52,
     "metadata": {},
     "output_type": "execute_result"
    }
   ],
   "source": [
    "# Potência \n",
    "pow(5,3)"
   ]
  },
  {
   "cell_type": "markdown",
   "id": "cf8d715b",
   "metadata": {},
   "source": [
    "# Slicing de String's"
   ]
  },
  {
   "cell_type": "code",
   "execution_count": 53,
   "id": "4accc12c",
   "metadata": {},
   "outputs": [],
   "source": [
    "string = 'Brenda e Fernanda'"
   ]
  },
  {
   "cell_type": "code",
   "execution_count": 55,
   "id": "4ace530e",
   "metadata": {},
   "outputs": [
    {
     "data": {
      "text/plain": [
       "'renda e Fernanda'"
      ]
     },
     "execution_count": 55,
     "metadata": {},
     "output_type": "execute_result"
    }
   ],
   "source": [
    "# Retorna todos os elementos da string começando pela posição\n",
    "string[1:]"
   ]
  },
  {
   "cell_type": "code",
   "execution_count": 58,
   "id": "e0a9080e",
   "metadata": {},
   "outputs": [
    {
     "data": {
      "text/plain": [
       "'Brenda e Fernanda'"
      ]
     },
     "execution_count": 58,
     "metadata": {},
     "output_type": "execute_result"
    }
   ],
   "source": [
    "# a string original permance inalterada. pois ele faz apenas um fatiamento na memória sem alterar o valor da variável\n",
    "string"
   ]
  },
  {
   "cell_type": "code",
   "execution_count": 60,
   "id": "7def1173",
   "metadata": {},
   "outputs": [
    {
     "data": {
      "text/plain": [
       "'Bre'"
      ]
     },
     "execution_count": 60,
     "metadata": {},
     "output_type": "execute_result"
    }
   ],
   "source": [
    "# Retorna tudo até a posição 3\n",
    "string[:3] "
   ]
  },
  {
   "cell_type": "code",
   "execution_count": 62,
   "id": "00415414",
   "metadata": {},
   "outputs": [
    {
     "data": {
      "text/plain": [
       "'a'"
      ]
     },
     "execution_count": 62,
     "metadata": {},
     "output_type": "execute_result"
    }
   ],
   "source": [
    "# Nós podemos também usar a indexação negativa e ler de trás para frente\n",
    "string[-1] # indexação negativa começa pelo 1 e não 0"
   ]
  },
  {
   "cell_type": "code",
   "execution_count": 63,
   "id": "f0835f4f",
   "metadata": {},
   "outputs": [
    {
     "data": {
      "text/plain": [
       "'Brenda e Fernand'"
      ]
     },
     "execution_count": 63,
     "metadata": {},
     "output_type": "execute_result"
    }
   ],
   "source": [
    "# Retorna tudo, exceto a posição -1 (última posição)\n",
    "string[:-1]"
   ]
  },
  {
   "cell_type": "markdown",
   "id": "3aced968",
   "metadata": {},
   "source": [
    "### Nós podemos usar a notação de pindice e fatiar a string em pedaços específicos (o padrão é 1). \n",
    "\n",
    "### Por exemplo, podemos usar dois pontos duas vezes em uma linha e, em seguida, um número que específica a frequência para retornar elementos."
   ]
  },
  {
   "cell_type": "code",
   "execution_count": 82,
   "id": "a62f43d4",
   "metadata": {},
   "outputs": [
    {
     "data": {
      "text/plain": [
       "'Brenda e Fernanda'"
      ]
     },
     "execution_count": 82,
     "metadata": {},
     "output_type": "execute_result"
    }
   ],
   "source": [
    "string[::1]"
   ]
  },
  {
   "cell_type": "code",
   "execution_count": 81,
   "id": "9e7eb49f",
   "metadata": {},
   "outputs": [
    {
     "data": {
      "text/plain": [
       "'Bed  enna'"
      ]
     },
     "execution_count": 81,
     "metadata": {},
     "output_type": "execute_result"
    }
   ],
   "source": [
    "string[::2] # saltando de 2 em 2"
   ]
  },
  {
   "cell_type": "code",
   "execution_count": 83,
   "id": "c18cc14b",
   "metadata": {},
   "outputs": [
    {
     "data": {
      "text/plain": [
       "'adnanreF e adnerB'"
      ]
     },
     "execution_count": 83,
     "metadata": {},
     "output_type": "execute_result"
    }
   ],
   "source": [
    "string[::-1] # ele retorna tudo, mas os caracteres de trás para frente"
   ]
  },
  {
   "cell_type": "code",
   "execution_count": 72,
   "id": "d79a1ee8",
   "metadata": {},
   "outputs": [
    {
     "data": {
      "text/plain": [
       "'BBB'"
      ]
     },
     "execution_count": 72,
     "metadata": {},
     "output_type": "execute_result"
    }
   ],
   "source": [
    "# Podemos usar o símbolo de multiplicação para criar repetições\n",
    "# exemplo:\n",
    "\n",
    "letra = 'B'\n",
    "letra * 3"
   ]
  },
  {
   "cell_type": "code",
   "execution_count": 75,
   "id": "a13feb6c",
   "metadata": {},
   "outputs": [
    {
     "data": {
      "text/plain": [
       "['Brenda', 'e', 'Fernanda']"
      ]
     },
     "execution_count": 75,
     "metadata": {},
     "output_type": "execute_result"
    }
   ],
   "source": [
    "# Dividir uma string por espaços em brancos (padrão)\n",
    "string.split()"
   ]
  },
  {
   "cell_type": "code",
   "execution_count": 84,
   "id": "4cf9798e",
   "metadata": {},
   "outputs": [
    {
     "data": {
      "text/plain": [
       "['Br', 'nda ', ' F', 'rnanda']"
      ]
     },
     "execution_count": 84,
     "metadata": {},
     "output_type": "execute_result"
    }
   ],
   "source": [
    "# Dividir uma string por um elemento específico\n",
    "string.split('e')"
   ]
  },
  {
   "cell_type": "code",
   "execution_count": 85,
   "id": "1e60c0b2",
   "metadata": {},
   "outputs": [
    {
     "data": {
      "text/plain": [
       "3"
      ]
     },
     "execution_count": 85,
     "metadata": {},
     "output_type": "execute_result"
    }
   ],
   "source": [
    "# Contagem \n",
    "string.count('a')"
   ]
  },
  {
   "cell_type": "code",
   "execution_count": 87,
   "id": "7dd0426b",
   "metadata": {},
   "outputs": [
    {
     "data": {
      "text/plain": [
       "False"
      ]
     },
     "execution_count": 87,
     "metadata": {},
     "output_type": "execute_result"
    }
   ],
   "source": [
    "# Essa string termina com 'o'?\n",
    "string.endswith('o')"
   ]
  },
  {
   "cell_type": "markdown",
   "id": "f6b8fdf7",
   "metadata": {},
   "source": [
    "# LISTAS"
   ]
  },
  {
   "cell_type": "code",
   "execution_count": 91,
   "id": "fac533a2",
   "metadata": {},
   "outputs": [],
   "source": [
    "lista = ['Brenda','Fernanda','Eros', 'Mia', 'Amor']"
   ]
  },
  {
   "cell_type": "code",
   "execution_count": 93,
   "id": "b65826f7",
   "metadata": {},
   "outputs": [
    {
     "ename": "IndexError",
     "evalue": "list assignment index out of range",
     "output_type": "error",
     "traceback": [
      "\u001b[1;31m---------------------------------------------------------------------------\u001b[0m",
      "\u001b[1;31mIndexError\u001b[0m                                Traceback (most recent call last)",
      "\u001b[1;32m~\\AppData\\Local\\Temp\\ipykernel_12340\\2620740273.py\u001b[0m in \u001b[0;36m<module>\u001b[1;34m\u001b[0m\n\u001b[0;32m      1\u001b[0m \u001b[1;31m# Deletando um item específico da lista\u001b[0m\u001b[1;33m\u001b[0m\u001b[1;33m\u001b[0m\u001b[0m\n\u001b[1;32m----> 2\u001b[1;33m \u001b[1;32mdel\u001b[0m \u001b[0mlista\u001b[0m\u001b[1;33m[\u001b[0m\u001b[1;36m4\u001b[0m\u001b[1;33m]\u001b[0m\u001b[1;33m\u001b[0m\u001b[1;33m\u001b[0m\u001b[0m\n\u001b[0m",
      "\u001b[1;31mIndexError\u001b[0m: list assignment index out of range"
     ]
    }
   ],
   "source": [
    "# Deletando um item específico da lista\n",
    "del lista[4]"
   ]
  },
  {
   "cell_type": "code",
   "execution_count": 96,
   "id": "0872a696",
   "metadata": {},
   "outputs": [
    {
     "name": "stdout",
     "output_type": "stream",
     "text": [
      "['Brenda', 'Fernanda', 'Eros', 'Mia']\n"
     ]
    }
   ],
   "source": [
    "# imprimindo a lista atualizada:\n",
    "print(lista) "
   ]
  },
  {
   "cell_type": "markdown",
   "id": "d644b794",
   "metadata": {},
   "source": [
    "# Listas Aninhadas"
   ]
  },
  {
   "cell_type": "code",
   "execution_count": 98,
   "id": "f1c19a63",
   "metadata": {},
   "outputs": [],
   "source": [
    "# Criando uma lista de lista\n",
    "listas = [[1,2,3], [4,5,6], [7,8,9,10]]"
   ]
  },
  {
   "cell_type": "code",
   "execution_count": 100,
   "id": "853a912b",
   "metadata": {},
   "outputs": [
    {
     "name": "stdout",
     "output_type": "stream",
     "text": [
      "[[1, 2, 3], [4, 5, 6], [7, 8, 9, 10]]\n"
     ]
    }
   ],
   "source": [
    "print(listas)"
   ]
  },
  {
   "cell_type": "code",
   "execution_count": 102,
   "id": "d9950d48",
   "metadata": {},
   "outputs": [
    {
     "data": {
      "text/plain": [
       "1"
      ]
     },
     "execution_count": 102,
     "metadata": {},
     "output_type": "execute_result"
    }
   ],
   "source": [
    "# Buscando no índice 0, que é uma lista, e buscando o elemento do índice 0 dessa lista\n",
    "listas[0][0]"
   ]
  },
  {
   "cell_type": "code",
   "execution_count": 105,
   "id": "79376d40",
   "metadata": {},
   "outputs": [
    {
     "data": {
      "text/plain": [
       "2"
      ]
     },
     "execution_count": 105,
     "metadata": {},
     "output_type": "execute_result"
    }
   ],
   "source": [
    "# Buscando no índice 0, que é uma lista, e buscando o elemento do índice 1 dessa lista\n",
    "listas[0][1]"
   ]
  },
  {
   "cell_type": "code",
   "execution_count": 107,
   "id": "f61d5e44",
   "metadata": {},
   "outputs": [
    {
     "name": "stdout",
     "output_type": "stream",
     "text": [
      "False\n"
     ]
    }
   ],
   "source": [
    "# Verificando se existe um valor em determinada lista\n",
    "print(11 in listas)"
   ]
  },
  {
   "cell_type": "code",
   "execution_count": 110,
   "id": "207e64a6",
   "metadata": {},
   "outputs": [
    {
     "data": {
      "text/plain": [
       "3"
      ]
     },
     "execution_count": 110,
     "metadata": {},
     "output_type": "execute_result"
    }
   ],
   "source": [
    "# retorna o valor máximo e mínimo da lista\n",
    "max(listas[0])"
   ]
  },
  {
   "cell_type": "code",
   "execution_count": 111,
   "id": "c8140ee1",
   "metadata": {},
   "outputs": [
    {
     "data": {
      "text/plain": [
       "1"
      ]
     },
     "execution_count": 111,
     "metadata": {},
     "output_type": "execute_result"
    }
   ],
   "source": [
    "min(listas[0])"
   ]
  },
  {
   "cell_type": "code",
   "execution_count": 132,
   "id": "c0bd8300",
   "metadata": {},
   "outputs": [
    {
     "name": "stdout",
     "output_type": "stream",
     "text": [
      "['Fernanda', 'Brenda', 'Eros', 'Mia']\n"
     ]
    }
   ],
   "source": [
    "# Copiando os itens de uma lista para outra\n",
    "family1 = ['Fernanda','Brenda']\n",
    "family2 = ['Eros','Mia']\n",
    "\n",
    "\n",
    "for x in family2:\n",
    "    family1.append(x)\n",
    "    \n",
    "print(family1)"
   ]
  },
  {
   "cell_type": "code",
   "execution_count": 133,
   "id": "08108849",
   "metadata": {},
   "outputs": [
    {
     "name": "stdout",
     "output_type": "stream",
     "text": [
      "['Fernanda', 'Brenda', 'Eros', 'Mia', 'Amor']\n"
     ]
    }
   ],
   "source": [
    "# Extend também adiciona um elemento à lista (na última posição)\n",
    "family1.extend(['Amor'])\n",
    "print(family1)"
   ]
  },
  {
   "cell_type": "code",
   "execution_count": 134,
   "id": "a6202020",
   "metadata": {},
   "outputs": [
    {
     "data": {
      "text/plain": [
       "4"
      ]
     },
     "execution_count": 134,
     "metadata": {},
     "output_type": "execute_result"
    }
   ],
   "source": [
    "# Qual é o índice (posição) de determinado elemento na lista\n",
    "family1.index('Amor')"
   ]
  },
  {
   "cell_type": "code",
   "execution_count": 135,
   "id": "0b3c40af",
   "metadata": {},
   "outputs": [],
   "source": [
    "family1.remove('Amor')"
   ]
  },
  {
   "cell_type": "code",
   "execution_count": 136,
   "id": "54d400b9",
   "metadata": {},
   "outputs": [
    {
     "name": "stdout",
     "output_type": "stream",
     "text": [
      "['Fernanda', 'Brenda', 'Eros', 'Mia']\n"
     ]
    }
   ],
   "source": [
    "print(family1)"
   ]
  },
  {
   "cell_type": "code",
   "execution_count": 137,
   "id": "d184b0b9",
   "metadata": {},
   "outputs": [],
   "source": [
    "# Reverte a ordem dos elementos\n",
    "family1.reverse()"
   ]
  },
  {
   "cell_type": "code",
   "execution_count": 138,
   "id": "0ddc419c",
   "metadata": {},
   "outputs": [
    {
     "data": {
      "text/plain": [
       "['Mia', 'Eros', 'Brenda', 'Fernanda']"
      ]
     },
     "execution_count": 138,
     "metadata": {},
     "output_type": "execute_result"
    }
   ],
   "source": [
    "family1"
   ]
  },
  {
   "cell_type": "code",
   "execution_count": 140,
   "id": "a1c01562",
   "metadata": {},
   "outputs": [],
   "source": [
    "# Ordena a lista\n",
    "family1.sort()"
   ]
  },
  {
   "cell_type": "code",
   "execution_count": 141,
   "id": "5bd06927",
   "metadata": {},
   "outputs": [
    {
     "data": {
      "text/plain": [
       "['Brenda', 'Eros', 'Fernanda', 'Mia']"
      ]
     },
     "execution_count": 141,
     "metadata": {},
     "output_type": "execute_result"
    }
   ],
   "source": [
    "family1"
   ]
  }
 ],
 "metadata": {
  "kernelspec": {
   "display_name": "Python 3 (ipykernel)",
   "language": "python",
   "name": "python3"
  },
  "language_info": {
   "codemirror_mode": {
    "name": "ipython",
    "version": 3
   },
   "file_extension": ".py",
   "mimetype": "text/x-python",
   "name": "python",
   "nbconvert_exporter": "python",
   "pygments_lexer": "ipython3",
   "version": "3.9.13"
  }
 },
 "nbformat": 4,
 "nbformat_minor": 5
}
