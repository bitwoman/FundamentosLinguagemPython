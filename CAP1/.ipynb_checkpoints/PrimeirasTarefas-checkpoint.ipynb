{
 "cells": [
  {
   "cell_type": "markdown",
   "id": "65869643",
   "metadata": {},
   "source": [
    "## Calcular a área de um paralelograma"
   ]
  },
  {
   "cell_type": "markdown",
   "id": "eaf80969",
   "metadata": {},
   "source": [
    "Paralelograma é um quadrilátero com lados opostos paralelos (portanto, ângulos opostos iguais). Um quadrilátero com lados iguais é chamado de losango, e um paralelogramo cujos ângulos retos é chamado de retângulo."
   ]
  },
  {
   "cell_type": "code",
   "execution_count": 7,
   "id": "90424713",
   "metadata": {},
   "outputs": [
    {
     "name": "stdout",
     "output_type": "stream",
     "text": [
      "Bem vindo ao calculador de área de paralelograma!\n"
     ]
    }
   ],
   "source": [
    "print('Bem vindo ao calculador de área de paralelograma!')"
   ]
  },
  {
   "cell_type": "code",
   "execution_count": 8,
   "id": "a0a6b422",
   "metadata": {},
   "outputs": [
    {
     "name": "stdout",
     "output_type": "stream",
     "text": [
      "Insira o comprimento base: 10\n"
     ]
    }
   ],
   "source": [
    "comprimentoBase = float(input('Insira o comprimento base: '))"
   ]
  },
  {
   "cell_type": "code",
   "execution_count": 9,
   "id": "c6395fc6",
   "metadata": {},
   "outputs": [
    {
     "name": "stdout",
     "output_type": "stream",
     "text": [
      "Insira a altura: 10\n"
     ]
    }
   ],
   "source": [
    "comprimentoAltura = float(input('Insira a altura: '))"
   ]
  },
  {
   "cell_type": "code",
   "execution_count": 10,
   "id": "76538920",
   "metadata": {},
   "outputs": [],
   "source": [
    "area = comprimentoBase * comprimentoAltura"
   ]
  },
  {
   "cell_type": "code",
   "execution_count": 11,
   "id": "c1c0f66b",
   "metadata": {},
   "outputs": [
    {
     "name": "stdout",
     "output_type": "stream",
     "text": [
      "A área do paralelograma é:  100.0\n"
     ]
    }
   ],
   "source": [
    "print('A área do paralelograma é: ', area)"
   ]
  },
  {
   "cell_type": "markdown",
   "id": "7baf546a",
   "metadata": {},
   "source": [
    "### Calculadora simples"
   ]
  },
  {
   "cell_type": "markdown",
   "id": "211c043b",
   "metadata": {},
   "source": [
    "Funções: adição, subtração, multiplicação e divisão"
   ]
  },
  {
   "cell_type": "code",
   "execution_count": 1,
   "id": "b16360bf",
   "metadata": {},
   "outputs": [
    {
     "name": "stdout",
     "output_type": "stream",
     "text": [
      "Digite o primeiro número: 10\n",
      "Digite o segundo número: 10\n",
      "Qual operação você deseja realizar? \n",
      "[+] [-] [*] [/]\n",
      "+\n",
      "\n",
      "soma =  20.0\n"
     ]
    }
   ],
   "source": [
    "numero1 = float(input('Digite o primeiro número: '))\n",
    "numero2 = float(input('Digite o segundo número: '))\n",
    "\n",
    "operacoes = ['+','-','*','/']\n",
    "\n",
    "cont = 0\n",
    "opValida = False\n",
    "\n",
    "while cont < len(operacoes) and not opValida: \n",
    "        operacao = input('Qual operação você deseja realizar? \\n[+] [-] [*] [/]\\n')\n",
    "        \n",
    "        if operacoes[cont] == operacao:\n",
    "            opValida = True\n",
    "        else:\n",
    "            cont += 1\n",
    "\n",
    "if operacao == '+':\n",
    "    soma = numero1 + numero2\n",
    "    print('\\nsoma = ', soma)\n",
    "elif operacao == '-':\n",
    "    subtracao = numero1 - numero2\n",
    "    print('\\nsubtracao = ', subtracao)\n",
    "elif operacao == '*':\n",
    "    multiplicacao = numero1 * numero2\n",
    "    print('\\nmultiplicacao = ', multiplicacao)\n",
    "elif operacao == '/':\n",
    "    if(numero1 == 0 or numero2 == 0):\n",
    "        print('Não é possível dividir por 0')\n",
    "    else:\n",
    "        divisao = numero1 // numero2\n",
    "        print('\\ndivisao = ', divisao)"
   ]
  },
  {
   "cell_type": "markdown",
   "id": "c7747802",
   "metadata": {},
   "source": [
    "## Algoritmo Bubble Sort\n"
   ]
  },
  {
   "cell_type": "markdown",
   "id": "4b85a500",
   "metadata": {},
   "source": [
    "Bubble Sort é um algoritmo de ordenação simples que funciona comparando com o próximo, e trocando-os de lugar se eles estiverem em ordem incorreta. O algoritmo repete esse processo várias vezes, até que todos os elementos estejam ordenados. A cada passagem, o maior elemento \"flutua\" para o final do array, como uma bolha, dando origem ao nome do algoritmo."
   ]
  },
  {
   "cell_type": "code",
   "execution_count": 22,
   "id": "d6fc14b5",
   "metadata": {},
   "outputs": [],
   "source": [
    "def bubbleSort():\n",
    "    \n",
    "    listaNumerica = []\n",
    "    contador = 0\n",
    "\n",
    "    while contador < 10:\n",
    "        listaNumerica.append(int(input('Digita uma lista de números inteiros: ')))\n",
    "        contador += 1\n",
    "\n",
    "    lenListaNumerica = len(listaNumerica)\n",
    "        \n",
    "    for i in range(lenListaNumerica):\n",
    "        for j in range(lenListaNumerica-i-1):\n",
    "            if listaNumerica[j] > listaNumerica[j+1]:\n",
    "                listaNumerica[j], listaNumerica[j+1] = listaNumerica[j+1], listaNumerica[j]\n",
    "                \n",
    "\n",
    "    return listaNumerica"
   ]
  },
  {
   "cell_type": "code",
   "execution_count": 23,
   "id": "c745e4eb",
   "metadata": {},
   "outputs": [
    {
     "name": "stdout",
     "output_type": "stream",
     "text": [
      "Digita uma lista de números inteiros: 10\n",
      "Digita uma lista de números inteiros: 9\n",
      "Digita uma lista de números inteiros: 8\n",
      "Digita uma lista de números inteiros: 7\n",
      "Digita uma lista de números inteiros: 6\n",
      "Digita uma lista de números inteiros: 5\n",
      "Digita uma lista de números inteiros: 4\n",
      "Digita uma lista de números inteiros: 3\n",
      "Digita uma lista de números inteiros: 2\n",
      "Digita uma lista de números inteiros: 1\n"
     ]
    },
    {
     "data": {
      "text/plain": [
       "[1, 2, 3, 4, 5, 6, 7, 8, 9, 10]"
      ]
     },
     "execution_count": 23,
     "metadata": {},
     "output_type": "execute_result"
    }
   ],
   "source": [
    "bubbleSort()"
   ]
  }
 ],
 "metadata": {
  "kernelspec": {
   "display_name": "Python 3 (ipykernel)",
   "language": "python",
   "name": "python3"
  },
  "language_info": {
   "codemirror_mode": {
    "name": "ipython",
    "version": 3
   },
   "file_extension": ".py",
   "mimetype": "text/x-python",
   "name": "python",
   "nbconvert_exporter": "python",
   "pygments_lexer": "ipython3",
   "version": "3.9.13"
  }
 },
 "nbformat": 4,
 "nbformat_minor": 5
}
