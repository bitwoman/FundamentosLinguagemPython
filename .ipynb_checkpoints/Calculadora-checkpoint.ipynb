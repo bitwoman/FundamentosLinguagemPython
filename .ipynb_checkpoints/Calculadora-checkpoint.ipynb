{
 "cells": [
  {
   "cell_type": "code",
   "execution_count": 7,
   "id": "282d6b57",
   "metadata": {},
   "outputs": [
    {
     "name": "stdout",
     "output_type": "stream",
     "text": [
      "**************** Calculadora em Python ****************\n",
      "\n",
      "Selecione o número da operação desejada: \n",
      "\n",
      " 1 - Soma\n",
      " 2 - Subtração\n",
      " 3 - Multiplicação\n",
      " 4 - Divisão \n",
      "\n",
      "Digite sua opção (1/2/3/4): 1\n",
      "\n",
      "Digite o primeiro número: 23\n",
      "\n",
      "Digite o segundo número: 45\n",
      "\n",
      "23 + 45 = 68\n"
     ]
    }
   ],
   "source": [
    "print('**************** Calculadora em Python ****************\\n')\n",
    "\n",
    "# declaração de variáveis\n",
    "\n",
    "listaOperacoes = [1,2,3,4]\n",
    "operacaoValida = False\n",
    "\n",
    "soma = 0\n",
    "subtracao = 0\n",
    "multiplicacao = 0\n",
    "divisao = 0\n",
    "\n",
    "# verifica se a escolha da operação é válida e se enquadra nas que foram selecionadas\n",
    "while not operacaoValida:\n",
    "    operacaoDesejada = int(input('Selecione o número da operação desejada: \\n\\n 1 - Soma\\n 2 - Subtração\\n 3 - Multiplicação\\n 4 - Divisão \\n\\nDigite sua opção (1/2/3/4): '))\n",
    "    \n",
    "    if operacaoDesejada in listaOperacoes:\n",
    "        operacaoValida = True\n",
    "    \n",
    "# operação validada, segue para verificar qual foi a selecionada pelo usuário para realizar o cálculo    \n",
    "    \n",
    "if operacaoDesejada == 1:\n",
    "    primeiroNumero = int(input('\\nDigite o primeiro número: '))\n",
    "    segundoNumero = int(input('\\nDigite o segundo número: '))\n",
    "    \n",
    "    soma = primeiroNumero + segundoNumero\n",
    "    \n",
    "    print(f'\\n{primeiroNumero} + {segundoNumero} = {soma}')   \n",
    "    \n",
    "elif operacaoDesejada == 2:\n",
    "    primeiroNumero = int(input('\\nDigite o primeiro número: '))\n",
    "    segundoNumero = int(input('\\nDigite o segundo número: '))\n",
    "    \n",
    "    subtracao = primeiroNumero - segundoNumero\n",
    "    \n",
    "    print(f'\\n{primeiroNumero} - {segundoNumero} = {subtracao}')   \n",
    "    \n",
    "elif operacaoDesejada == 3:\n",
    "    primeiroNumero = int(input('\\nDigite o primeiro número: '))\n",
    "    segundoNumero = int(input('\\nDigite o segundo número: '))\n",
    "    \n",
    "    multiplicacao = primeiroNumero * segundoNumero\n",
    "    \n",
    "    print(f'\\n{primeiroNumero} * {segundoNumero} = {multiplicacao}')    \n",
    "\n",
    "elif operacaoDesejada == 4:\n",
    "    primeiroNumero = int(input('\\nDigite o primeiro número: '))\n",
    "    segundoNumero = int(input('\\nDigite o segundo número: '))\n",
    "    \n",
    "    divisao = primeiroNumero // segundoNumero\n",
    "    \n",
    "    print(f'\\n{primeiroNumero} / {segundoNumero} = {divisao}') "
   ]
  }
 ],
 "metadata": {
  "kernelspec": {
   "display_name": "Python 3 (ipykernel)",
   "language": "python",
   "name": "python3"
  },
  "language_info": {
   "codemirror_mode": {
    "name": "ipython",
    "version": 3
   },
   "file_extension": ".py",
   "mimetype": "text/x-python",
   "name": "python",
   "nbconvert_exporter": "python",
   "pygments_lexer": "ipython3",
   "version": "3.9.13"
  }
 },
 "nbformat": 4,
 "nbformat_minor": 5
}
