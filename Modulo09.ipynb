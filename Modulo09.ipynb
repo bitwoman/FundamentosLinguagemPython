{
 "cells": [
  {
   "cell_type": "code",
   "execution_count": null,
   "id": "eb2de257",
   "metadata": {},
   "outputs": [],
   "source": [
    "# importando o numpy \n",
    "import numpy as np "
   ]
  },
  {
   "cell_type": "code",
   "execution_count": null,
   "id": "5ceab876",
   "metadata": {},
   "outputs": [],
   "source": [
    "np.__version__"
   ]
  },
  {
   "cell_type": "code",
   "execution_count": null,
   "id": "9718e358",
   "metadata": {},
   "outputs": [],
   "source": [
    "# instrução para instalar uma versão exata do pacote em python\n",
    "# !pip install numpy 1.22.2"
   ]
  },
  {
   "cell_type": "markdown",
   "id": "807bc05f",
   "metadata": {},
   "source": [
    "# Criando arrays numpy "
   ]
  },
  {
   "cell_type": "code",
   "execution_count": null,
   "id": "165a0cc0",
   "metadata": {},
   "outputs": [],
   "source": [
    "# criado a partir de uma lista python\n",
    "arr1 = np.array([1,2,3,4,5,6,7,8,9,10])"
   ]
  },
  {
   "cell_type": "code",
   "execution_count": null,
   "id": "fab08c44",
   "metadata": {},
   "outputs": [],
   "source": [
    "print(arr1)"
   ]
  },
  {
   "cell_type": "code",
   "execution_count": null,
   "id": "f1149801",
   "metadata": {},
   "outputs": [],
   "source": [
    "# um objeto do tipo ndarray é um recipiente multidimensional \n",
    "# de itens do mesmo tipo e tamanho\n",
    "type(arr1)"
   ]
  },
  {
   "cell_type": "code",
   "execution_count": null,
   "id": "fd382c05",
   "metadata": {},
   "outputs": [],
   "source": [
    "# verificando o formato do array\n",
    "arr1.shape"
   ]
  },
  {
   "cell_type": "markdown",
   "id": "f9847ee0",
   "metadata": {},
   "source": [
    "Um array numpy é uma estrutura de dados multidimensional usada em computação científica e análise de dados. \n",
    "Numpy fornece um objeto de matriz n-dimensional (ou ndarray) que é uma grade homogêna de elementos, geralmente números, que \n",
    "podem ser indexados por um conjunto de inteiros. \n",
    "\n",
    "Os arrays numpu são mais eficientes do que as listas python para armazenar e manipular grandes quantidades de dados, pois são \n",
    "implementados em linguagem C e fornecem várias otimizações de desempenho. Além disso, o numpy permite a fácil leitura e escrita de\n",
    "arquivos de dados, integração com outras bibliotecas python e suporte a operações em paralelo usando várias CPUs ou GPUs."
   ]
  },
  {
   "cell_type": "markdown",
   "id": "8e755227",
   "metadata": {},
   "source": [
    "# Indexação em arrays"
   ]
  },
  {
   "cell_type": "code",
   "execution_count": null,
   "id": "a3bef39e",
   "metadata": {},
   "outputs": [],
   "source": [
    "# imprimindo um elemento específico no array\n",
    "arr1[4]"
   ]
  },
  {
   "cell_type": "code",
   "execution_count": null,
   "id": "47da2361",
   "metadata": {},
   "outputs": [],
   "source": [
    "arr1[1:4]"
   ]
  },
  {
   "cell_type": "code",
   "execution_count": null,
   "id": "4095568e",
   "metadata": {},
   "outputs": [],
   "source": [
    "arr1[1:4+1]"
   ]
  },
  {
   "cell_type": "code",
   "execution_count": null,
   "id": "28d60c91",
   "metadata": {},
   "outputs": [],
   "source": [
    "# cria uma lista de índices\n",
    "indices = [1,2,5,6]"
   ]
  },
  {
   "cell_type": "code",
   "execution_count": null,
   "id": "58c54bc5",
   "metadata": {},
   "outputs": [],
   "source": [
    "arr1[indices]"
   ]
  },
  {
   "cell_type": "code",
   "execution_count": null,
   "id": "69193f92",
   "metadata": {},
   "outputs": [],
   "source": [
    "# cria uma máscara booleana para os elementos pares\n",
    "mask = (arr1 % 2 == 0)"
   ]
  },
  {
   "cell_type": "code",
   "execution_count": null,
   "id": "53b87a7e",
   "metadata": {},
   "outputs": [],
   "source": [
    "arr1[mask]"
   ]
  },
  {
   "cell_type": "code",
   "execution_count": null,
   "id": "12ae509f",
   "metadata": {},
   "outputs": [],
   "source": [
    "mask"
   ]
  },
  {
   "cell_type": "code",
   "execution_count": null,
   "id": "4815e63c",
   "metadata": {},
   "outputs": [],
   "source": [
    "arr1[0]"
   ]
  },
  {
   "cell_type": "code",
   "execution_count": null,
   "id": "9ce295f7",
   "metadata": {},
   "outputs": [],
   "source": [
    "# não é possível incluir elemento de outro tipo\n",
    "try:\n",
    "    arr1[0] = 'Novo elemento'\n",
    "except:\n",
    "    print('Operação não permitido')"
   ]
  },
  {
   "cell_type": "markdown",
   "id": "04f11924",
   "metadata": {},
   "source": [
    "# Funções NumPy"
   ]
  },
  {
   "cell_type": "code",
   "execution_count": null,
   "id": "07c123ec",
   "metadata": {},
   "outputs": [],
   "source": [
    "# a função np.array cria um array numpy\n",
    "arr2 = np.array([1,2,3,4,5])"
   ]
  },
  {
   "cell_type": "code",
   "execution_count": null,
   "id": "ed9df53e",
   "metadata": {},
   "outputs": [],
   "source": [
    "arr2"
   ]
  },
  {
   "cell_type": "code",
   "execution_count": null,
   "id": "1fa75b8f",
   "metadata": {},
   "outputs": [],
   "source": [
    "type(arr2)"
   ]
  },
  {
   "cell_type": "code",
   "execution_count": null,
   "id": "ab2e8318",
   "metadata": {},
   "outputs": [],
   "source": [
    "# usando métodos do array numpy\n",
    "arr2.cumsum() # vai somando os valores anteriores ao próximo valor do array \n",
    "#soma acumulada\n",
    "# exemplo: '1' + '2' = 3 > 3 + '3' = 6 > 6 + '4' = 10 > 10 + '5' = 15"
   ]
  },
  {
   "cell_type": "code",
   "execution_count": null,
   "id": "6022ee83",
   "metadata": {},
   "outputs": [],
   "source": [
    "arr2.cumprod()\n",
    "# produto acumulado"
   ]
  },
  {
   "cell_type": "code",
   "execution_count": null,
   "id": "97c5a1b0",
   "metadata": {},
   "outputs": [],
   "source": [
    "# a função arange cria um array numpy contendo uma progressão aritmética a partir de um intervalo \n",
    "# start, stop, step \n",
    "\n",
    "arr3 = np.arange(0,50,5)\n",
    "arr3"
   ]
  },
  {
   "cell_type": "code",
   "execution_count": null,
   "id": "32dcf55c",
   "metadata": {},
   "outputs": [],
   "source": [
    "type(arr3)"
   ]
  },
  {
   "cell_type": "code",
   "execution_count": null,
   "id": "72983d70",
   "metadata": {},
   "outputs": [],
   "source": [
    "arr3.shape"
   ]
  },
  {
   "cell_type": "code",
   "execution_count": null,
   "id": "bed1bc0e",
   "metadata": {},
   "outputs": [],
   "source": [
    "# cria um array preenchidos com zeros\n",
    "arr4 = np.zeros(10)\n",
    "arr4"
   ]
  },
  {
   "cell_type": "code",
   "execution_count": null,
   "id": "7174db13",
   "metadata": {},
   "outputs": [],
   "source": [
    "# retorna 1 nas posições em diagonal e 0 no restante\n",
    "arr5 = np.eye(3)\n",
    "arr5"
   ]
  },
  {
   "cell_type": "code",
   "execution_count": null,
   "id": "c9fc2808",
   "metadata": {},
   "outputs": [],
   "source": [
    "# os valores passados como parâmetro, formam uma diagonal \n",
    "arr6 = np.diag(np.array([1,2,3,4]))"
   ]
  },
  {
   "cell_type": "code",
   "execution_count": null,
   "id": "fd5ff690",
   "metadata": {},
   "outputs": [],
   "source": [
    "arr6"
   ]
  },
  {
   "cell_type": "code",
   "execution_count": null,
   "id": "c1a65562",
   "metadata": {},
   "outputs": [],
   "source": [
    "# array de booleanos\n",
    "arr7 = np.array([True, False, False, True])\n",
    "arr7"
   ]
  },
  {
   "cell_type": "code",
   "execution_count": null,
   "id": "560f9493",
   "metadata": {},
   "outputs": [],
   "source": [
    "# array de strings\n",
    "arr8 = np.array(['Linguagem Julia','Linguagem R','Linguagem Python'])\n",
    "arr8"
   ]
  },
  {
   "cell_type": "markdown",
   "id": "588324b4",
   "metadata": {},
   "source": [
    "A função linspace() do numpy é usada para sequência de números igualmente espaçados dentro de um intervalo especificado. Essa função é amplamente utilizada em programação científica e matemática para gerar arrays de números para diversos fins, como gráficos, cálculos e simulações. O método linspace(linearly spaced vector) retorna um número de valores igualmente distribuídos no intervalo especificado."
   ]
  },
  {
   "cell_type": "code",
   "execution_count": null,
   "id": "ffd127dc",
   "metadata": {},
   "outputs": [],
   "source": [
    "print(np.linspace(0,10))"
   ]
  },
  {
   "cell_type": "code",
   "execution_count": null,
   "id": "7349536f",
   "metadata": {},
   "outputs": [],
   "source": [
    "print(np.linspace(0,10,15))"
   ]
  },
  {
   "cell_type": "markdown",
   "id": "c20e2627",
   "metadata": {},
   "source": [
    "A função logspace do numpy é usada para criar uma sequência de números igualmente espaçados em escala logarítimica dentro de um intervalo especificado.\n",
    "Essa função é amplamente utilizada em programação científica e matemática para gerar arrays de números para diversos fins, como gráficos, cálculos e simulações."
   ]
  },
  {
   "cell_type": "code",
   "execution_count": null,
   "id": "fbe42969",
   "metadata": {},
   "outputs": [],
   "source": [
    "print(np.logspace(0,5,10))"
   ]
  },
  {
   "cell_type": "markdown",
   "id": "d58b3354",
   "metadata": {},
   "source": [
    "# Manipulando matrizes"
   ]
  },
  {
   "cell_type": "code",
   "execution_count": null,
   "id": "6c82a0e5",
   "metadata": {},
   "outputs": [],
   "source": [
    "# criando uma matriz \n",
    "arr9 = np.array([[1,2,3,4],[5,6,7,8]])\n",
    "arr9"
   ]
  },
  {
   "cell_type": "code",
   "execution_count": null,
   "id": "9fc3038d",
   "metadata": {},
   "outputs": [],
   "source": [
    "type(arr9)"
   ]
  },
  {
   "cell_type": "code",
   "execution_count": null,
   "id": "fdfdf82f",
   "metadata": {},
   "outputs": [],
   "source": [
    "# criando uma matriz 2x3 apenas com números '1'\n",
    "arr10 = np.ones((2,3))\n",
    "arr10"
   ]
  },
  {
   "cell_type": "code",
   "execution_count": null,
   "id": "12be2257",
   "metadata": {},
   "outputs": [],
   "source": [
    "# lista de listas\n",
    "lista = [[1,2,3,4],[5,6,7,8],[9,10,11,12]]\n",
    "lista"
   ]
  },
  {
   "cell_type": "code",
   "execution_count": null,
   "id": "bf72759c",
   "metadata": {},
   "outputs": [],
   "source": [
    "# a função matrix cria uma matriz a partir de uma lista de listas\n",
    "arr11 = np.matrix(lista)\n",
    "arr11"
   ]
  },
  {
   "cell_type": "code",
   "execution_count": null,
   "id": "2a331ebe",
   "metadata": {},
   "outputs": [],
   "source": [
    "type(arr11)"
   ]
  },
  {
   "cell_type": "code",
   "execution_count": null,
   "id": "29cda4bb",
   "metadata": {},
   "outputs": [],
   "source": [
    "arr11.shape # formato"
   ]
  },
  {
   "cell_type": "code",
   "execution_count": null,
   "id": "b207ab88",
   "metadata": {},
   "outputs": [],
   "source": [
    "arr11.size # tamanho"
   ]
  },
  {
   "cell_type": "code",
   "execution_count": null,
   "id": "74635f57",
   "metadata": {},
   "outputs": [],
   "source": [
    "arr11.dtype # tipos de dados dos valores que constam nesse array"
   ]
  },
  {
   "cell_type": "code",
   "execution_count": null,
   "id": "d705eb7e",
   "metadata": {},
   "outputs": [],
   "source": [
    "# indexação da matriz\n",
    "arr11[2,1]"
   ]
  },
  {
   "cell_type": "code",
   "execution_count": null,
   "id": "9f286a3a",
   "metadata": {},
   "outputs": [],
   "source": [
    "# indexação da matriz\n",
    "arr11[0:2, 1]"
   ]
  },
  {
   "cell_type": "code",
   "execution_count": null,
   "id": "bd1dae2c",
   "metadata": {},
   "outputs": [],
   "source": [
    "# indexação da matriz\n",
    "arr11[1,]"
   ]
  },
  {
   "cell_type": "code",
   "execution_count": null,
   "id": "5821f85f",
   "metadata": {},
   "outputs": [],
   "source": [
    "# alterando um elemento da matriz\n",
    "arr11[1,0] = 100\n",
    "arr11"
   ]
  },
  {
   "cell_type": "code",
   "execution_count": null,
   "id": "9683ef41",
   "metadata": {},
   "outputs": [],
   "source": [
    "x = np.array([1,2]) # numpy decide o tipo dos dados\n",
    "y = np.array([1.0, 2.0]) # numpy decide o tipo dos dados\n",
    "z = np.array([1,2], dtype = np.float64) # forçamos um tipo de dado em particular"
   ]
  },
  {
   "cell_type": "code",
   "execution_count": null,
   "id": "90884d27",
   "metadata": {},
   "outputs": [],
   "source": [
    "print(x.dtype,y.dtype,z.dtype)"
   ]
  },
  {
   "cell_type": "code",
   "execution_count": null,
   "id": "b84b424d",
   "metadata": {},
   "outputs": [],
   "source": [
    "print(x,y,z)"
   ]
  },
  {
   "cell_type": "code",
   "execution_count": null,
   "id": "a457a434",
   "metadata": {},
   "outputs": [],
   "source": [
    "arr12 = np.array([[1,2,3,4],[5,6,7,8]], dtype=float)\n",
    "arr12"
   ]
  },
  {
   "cell_type": "markdown",
   "id": "40aab6e3",
   "metadata": {},
   "source": [
    "O itemsize de um array numpy é um atributo que retorna o tamanho em bytes de cada elemento do array. Em outras palavras, o itemsize representa o número detes necessários para armazenar cada valor do array numpy."
   ]
  },
  {
   "cell_type": "code",
   "execution_count": null,
   "id": "9d60fbd4",
   "metadata": {},
   "outputs": [],
   "source": [
    "arr12.itemsize"
   ]
  },
  {
   "cell_type": "code",
   "execution_count": null,
   "id": "341c6d2b",
   "metadata": {},
   "outputs": [],
   "source": [
    "arr12.nbytes"
   ]
  },
  {
   "cell_type": "code",
   "execution_count": null,
   "id": "e6d1c604",
   "metadata": {},
   "outputs": [],
   "source": [
    "arr12.ndim # número de dimensões"
   ]
  },
  {
   "cell_type": "markdown",
   "id": "ad3100b0",
   "metadata": {},
   "source": [
    "# Manipulando objetos de 3 e 4 dimensões com numpy"
   ]
  },
  {
   "cell_type": "code",
   "execution_count": null,
   "id": "8662148a",
   "metadata": {},
   "outputs": [],
   "source": [
    "# cria um array de 3 dimensões\n",
    "arr_3d = np.array([\n",
    "    [\n",
    "        [1,2,3,4],\n",
    "        [5,6,7,8],\n",
    "        [9,10,11,12]\n",
    "    ],\n",
    "    [\n",
    "        [13,14,15,16],\n",
    "        [17,18,19,20],\n",
    "        [21,22,23,24]]\n",
    "])\n",
    "arr_3d"
   ]
  },
  {
   "cell_type": "code",
   "execution_count": null,
   "id": "cac31594",
   "metadata": {},
   "outputs": [],
   "source": [
    "arr_3d.ndim"
   ]
  },
  {
   "cell_type": "code",
   "execution_count": null,
   "id": "607dd135",
   "metadata": {
    "scrolled": true
   },
   "outputs": [],
   "source": [
    "arr_3d.shape"
   ]
  },
  {
   "cell_type": "code",
   "execution_count": null,
   "id": "c7709c88",
   "metadata": {},
   "outputs": [],
   "source": [
    "arr_3d[0,2,1]"
   ]
  },
  {
   "cell_type": "code",
   "execution_count": null,
   "id": "984c6bf8",
   "metadata": {
    "scrolled": false
   },
   "outputs": [],
   "source": [
    "# cria um array de 4 dimensões (uma lista super aninhada)\n",
    "arr_4d = np.array(\n",
    "[\n",
    "  [   \n",
    "    [\n",
    "        [1,2,3,4,1],\n",
    "        [5,6,7,8,2],\n",
    "        [9,10,11,12,3],\n",
    "        [13,14,15,16,4]\n",
    "    ],\n",
    "    [\n",
    "        [17,18,19,20,5],\n",
    "        [21,22,23,24,6],\n",
    "        [25,26,27,28,7],\n",
    "        [29,30,31,32,8]\n",
    "    ],\n",
    "    [\n",
    "        [33,34,35,36,9],\n",
    "        [37,38,39,40,10],\n",
    "        [41,42,43,44,11],\n",
    "        [45,46,47,48,12]\n",
    "    ],\n",
    "    [\n",
    "        [49,50,51,52,13],\n",
    "        [53,54,55,56,14],\n",
    "        [57,58,59,60,15],\n",
    "        [61,62,63,64,16]\n",
    "    ]\n",
    "  ]\n",
    "])\n",
    "arr_4d"
   ]
  },
  {
   "cell_type": "code",
   "execution_count": null,
   "id": "8cb0c748",
   "metadata": {},
   "outputs": [],
   "source": [
    "arr_4d.ndim"
   ]
  },
  {
   "cell_type": "code",
   "execution_count": null,
   "id": "c073e72d",
   "metadata": {},
   "outputs": [],
   "source": [
    "arr_4d.shape"
   ]
  },
  {
   "cell_type": "code",
   "execution_count": null,
   "id": "431790cd",
   "metadata": {},
   "outputs": [],
   "source": [
    "arr_4d[0,2,1]"
   ]
  },
  {
   "cell_type": "code",
   "execution_count": null,
   "id": "c087a4a4",
   "metadata": {},
   "outputs": [],
   "source": [
    "arr_4d[0,2,1,4]"
   ]
  },
  {
   "cell_type": "markdown",
   "id": "5ad9e8d6",
   "metadata": {},
   "source": [
    "# Manipulando arquivos com Numpy"
   ]
  },
  {
   "cell_type": "code",
   "execution_count": null,
   "id": "21a6e6d8",
   "metadata": {},
   "outputs": [],
   "source": [
    "import os\n",
    "filename = os.path.join('dataset.csv')"
   ]
  },
  {
   "cell_type": "code",
   "execution_count": null,
   "id": "4adb9c80",
   "metadata": {},
   "outputs": [],
   "source": [
    "# no windows, use !more dataset.csv. mac ou linux use !head dataset.csv\n",
    "!more dataset.csv"
   ]
  },
  {
   "cell_type": "code",
   "execution_count": null,
   "id": "de52d7aa",
   "metadata": {},
   "outputs": [],
   "source": [
    "# carregando um dataset para dentro de um array\n",
    "arr13 = np.loadtxt(filename, delimiter =',', usecols = (0,1,2,3), skiprows=1)"
   ]
  },
  {
   "cell_type": "code",
   "execution_count": null,
   "id": "6ecc2e9c",
   "metadata": {},
   "outputs": [],
   "source": [
    "arr13"
   ]
  },
  {
   "cell_type": "code",
   "execution_count": null,
   "id": "29504b3f",
   "metadata": {},
   "outputs": [],
   "source": [
    "type(arr13)"
   ]
  },
  {
   "cell_type": "code",
   "execution_count": null,
   "id": "645bf854",
   "metadata": {},
   "outputs": [],
   "source": [
    "# carregando apenas duas variáveis (colunas) do arquivo\n",
    "var1, var2 = np.loadtxt(filename, delimiter=',', usecols=(0,1), skiprows=1,unpack=True)"
   ]
  },
  {
   "cell_type": "code",
   "execution_count": null,
   "id": "b484c247",
   "metadata": {},
   "outputs": [],
   "source": [
    "# gerando um plot a partir de um arquivo usando o np\n",
    "# import matplotlib.pyplot as plt \n",
    "# plt.show(plt.plot(var1,var2, 'o', markersize = 6, color = 'red'))\n",
    "\n",
    "\n",
    "#ImportError: DLL load failed while importing ft2font: Não foi possível encontrar o procedimento especificado.\n"
   ]
  },
  {
   "cell_type": "markdown",
   "id": "8b07b476",
   "metadata": {},
   "source": [
    "# Análise Estatística Básica com Numpy"
   ]
  },
  {
   "cell_type": "markdown",
   "id": "a9bd6ef1",
   "metadata": {},
   "source": [
    "## MÉDIA"
   ]
  },
  {
   "cell_type": "code",
   "execution_count": null,
   "id": "5cc670b9",
   "metadata": {},
   "outputs": [],
   "source": [
    "# criando um array\n",
    "arr14 = np.array([15,23,63,94,75])"
   ]
  },
  {
   "cell_type": "markdown",
   "id": "1d5afeb8",
   "metadata": {},
   "source": [
    "Em estatística, a média é uma medida de tendência central que representa o valor central de um conjunto de dados. É calculada somando-se todos os valores do conjunto de dados e dividindo-se pelo número de observações."
   ]
  },
  {
   "cell_type": "code",
   "execution_count": null,
   "id": "e82d116a",
   "metadata": {},
   "outputs": [],
   "source": [
    "# média \n",
    "np.mean(arr14)"
   ]
  },
  {
   "cell_type": "markdown",
   "id": "5baacf22",
   "metadata": {},
   "source": [
    "## DESVIO PADRÃO"
   ]
  },
  {
   "cell_type": "markdown",
   "id": "69a57093",
   "metadata": {},
   "source": [
    "O desvio padrão é uma medida estatística de dispersão que indica o quanto os valores de um conjunto de dados se afastam da média. Ele é calculado como a raiz quadrada da variância, que é a média dos quadrados das diferenças entre cada valor e a média. \n",
    "\n",
    "O desvio padrão é uma medida útil porque permite avaliar a variabilidade dos dados em torno da média. Se os valores estiverem próximos da média, o desvio padrão será baixo, indicando que os dados têm pouca variabilidade. Por outro lado, se os valores estiverem muito distantes da média, o desvio padrão será alto, indicando que os dados têm alta variabilidade. Por outro lado, se os valores estiverem muito distantes da média, o desvio padrão será alto, indicando que os dados têm alta variabilidade."
   ]
  },
  {
   "cell_type": "markdown",
   "id": "6eb1ca78",
   "metadata": {},
   "source": [
    "O desvio padrão é amplamente utilizado em análise e ciência de dados, para avaliar a consitência dos dados e comparar conjuntos de dados diferentes. É importante notar que o desvio padrão pode ser influenciado por valores extemos (outliers) e pode ser afetado por diferentes distribuições de dados."
   ]
  },
  {
   "cell_type": "code",
   "execution_count": null,
   "id": "3563c618",
   "metadata": {},
   "outputs": [],
   "source": [
    "# desvio padrão (standar deviation)\n",
    "np.std(arr14)"
   ]
  },
  {
   "cell_type": "markdown",
   "id": "72257c0a",
   "metadata": {},
   "source": [
    "## VARIÂNCIA"
   ]
  },
  {
   "cell_type": "markdown",
   "id": "fd224bd6",
   "metadata": {},
   "source": [
    "A variância é uma medida estatística que quantifica a dispersão dos valores em um conjunto de dados em relação à média. Ela é calculada como a média dos quadrados das diferenças entre cada valor e a média.\n",
    "\n",
    "A variância é uma medida útil para avaliar a variabilidade dos dados em torno da média. Se a variância for baixa, isso indica que os valores estão próximos da média e têm pouca variabilidade. Por outro lado, se a variância for alta, isso indica que os valores estão distantes da média e têm alta variabilidade."
   ]
  },
  {
   "cell_type": "code",
   "execution_count": null,
   "id": "504c8036",
   "metadata": {},
   "outputs": [],
   "source": [
    "np.var(arr14)"
   ]
  },
  {
   "cell_type": "markdown",
   "id": "0fde38e0",
   "metadata": {},
   "source": [
    "Tanto a variância quanto o desvio padrão são medidas úteis de dispersão e podem ser usados em conjunto para descrever a distribuição de um conjunto de dados.Avariância é uma medida quadrática e pode ser útil para calcular outras estatísticas, como o desvio padrão. No entanto, como a variância é uma medida quadrática, seus valores são geralmente maiores do que os valores dos próprios dados, o que pode dificultar a interpretação. O desvio padrão é a raiz quadrada da variância e fornece uma medida de dispersão que tem a mesma unidade de medida que os próprios dados, facilitando a interpretação e a comparação com outros valores.Em geral, o desvio padrão é mais comumente usado do que a variância, principalmente porque é mais fácil de interpretar. No entanto, a escolha entre o uso da variância ou do desvio padrão depende do contexto e do objetivo da análise. Em alguns casos, a variância pode ser uma medida  mais  apropriada,  como  quando  se  pretende  calcular  outras  estatísticas,  como  a covariância ou o coeficiente de correlação. Em outros casos, o desvio padrão pode ser uma medida mais apropriada, como quando se pretende avaliar a consistência dos dados em relação à média e comparar diferentes conjuntos de dados."
   ]
  },
  {
   "cell_type": "markdown",
   "id": "0b9f0ff7",
   "metadata": {},
   "source": [
    "## OPERAÇÕES MATEMÁTICAS COM ARRAYS NUMPY"
   ]
  },
  {
   "cell_type": "code",
   "execution_count": null,
   "id": "ece6dc39",
   "metadata": {},
   "outputs": [],
   "source": [
    "arr15 = np.arange(1,10) "
   ]
  },
  {
   "cell_type": "code",
   "execution_count": null,
   "id": "39ec1657",
   "metadata": {},
   "outputs": [],
   "source": [
    "arr15"
   ]
  },
  {
   "cell_type": "code",
   "execution_count": null,
   "id": "c4b31e36",
   "metadata": {},
   "outputs": [],
   "source": [
    "# soma dos elementos do array\n",
    "np.sum(arr15)"
   ]
  },
  {
   "cell_type": "code",
   "execution_count": null,
   "id": "cd16ea90",
   "metadata": {},
   "outputs": [],
   "source": [
    "# retorna o produto dos elementos\n",
    "np.prod(arr15)"
   ]
  },
  {
   "cell_type": "code",
   "execution_count": null,
   "id": "96830deb",
   "metadata": {},
   "outputs": [],
   "source": [
    "# soma acumulada dos elementos\n",
    "np.cumsum(arr15)"
   ]
  },
  {
   "cell_type": "code",
   "execution_count": null,
   "id": "2569597d",
   "metadata": {},
   "outputs": [],
   "source": [
    "# cria dos arrays \n",
    "arr16 = np.array([3,2,1])\n",
    "arr17 = np.array([1,2,3])"
   ]
  },
  {
   "cell_type": "code",
   "execution_count": null,
   "id": "a56e65ad",
   "metadata": {},
   "outputs": [],
   "source": [
    "# soma dos arrays\n",
    "arr18 = np.add(arr16, arr17)"
   ]
  },
  {
   "cell_type": "code",
   "execution_count": null,
   "id": "d650b19b",
   "metadata": {},
   "outputs": [],
   "source": [
    "arr18"
   ]
  },
  {
   "cell_type": "markdown",
   "id": "f51809c3",
   "metadata": {},
   "source": [
    "Para multiplicar duas matrizes Numpy, podemos usar a função dot() ou o operador @. Ambos os métodos executam a multiplicação matricial. É importante lembrar que, para que a multiplicação das matrizes possa ser executada, o número de colunas da primeira matriz deve ser igual ao número de linhas da segunda matriz. \n",
    "\n",
    "Há várias formas de multiplicar elementos de matrizes numpy. A função dot() é um método bastante utilizado."
   ]
  },
  {
   "cell_type": "code",
   "execution_count": null,
   "id": "01cdf0bd",
   "metadata": {},
   "outputs": [],
   "source": [
    "# cria duas matrizes\n",
    "arr19 = np.array([[1,2],[3,4]])\n",
    "arr20 = np.array([[5,6],[0,7]])"
   ]
  },
  {
   "cell_type": "code",
   "execution_count": null,
   "id": "5437b10b",
   "metadata": {},
   "outputs": [],
   "source": [
    "arr19.shape"
   ]
  },
  {
   "cell_type": "code",
   "execution_count": null,
   "id": "0406826f",
   "metadata": {},
   "outputs": [],
   "source": [
    "# multiplicar as duas matrizes\n",
    "arr21 = np.dot(arr19,arr20)"
   ]
  },
  {
   "cell_type": "code",
   "execution_count": null,
   "id": "0343cdf9",
   "metadata": {},
   "outputs": [],
   "source": [
    "arr21"
   ]
  },
  {
   "cell_type": "code",
   "execution_count": null,
   "id": "afc76b22",
   "metadata": {},
   "outputs": [],
   "source": [
    "# multiplicar as duas matrizes\n",
    "arr21 = arr19 @ arr20"
   ]
  },
  {
   "cell_type": "code",
   "execution_count": null,
   "id": "e2092eec",
   "metadata": {},
   "outputs": [],
   "source": [
    "arr21"
   ]
  },
  {
   "cell_type": "code",
   "execution_count": null,
   "id": "b0930437",
   "metadata": {},
   "outputs": [],
   "source": [
    "# multiplicar as duas matrizes\n",
    "arr21 = np.tensordot(arr19, arr20, axes = ((1), (0)))"
   ]
  },
  {
   "cell_type": "code",
   "execution_count": null,
   "id": "52a30910",
   "metadata": {},
   "outputs": [],
   "source": [
    "arr21"
   ]
  },
  {
   "cell_type": "markdown",
   "id": "6ee988ce",
   "metadata": {},
   "source": [
    "# SLICING (FATIAMENTO) DE ARRAYS NUMPY"
   ]
  },
  {
   "cell_type": "code",
   "execution_count": null,
   "id": "0cce14d4",
   "metadata": {},
   "outputs": [],
   "source": [
    "# CRIA UM ARRAY\n",
    "arr22 = np.diag(np.arange(3))\n",
    "arr22"
   ]
  },
  {
   "cell_type": "code",
   "execution_count": null,
   "id": "f00703b5",
   "metadata": {},
   "outputs": [],
   "source": [
    "# linha 1, coluna 1 > 1\n",
    "arr22[1,1]"
   ]
  },
  {
   "cell_type": "code",
   "execution_count": null,
   "id": "adc7acb1",
   "metadata": {},
   "outputs": [],
   "source": [
    "# linha inteira\n",
    "arr22[1]"
   ]
  },
  {
   "cell_type": "code",
   "execution_count": null,
   "id": "4f5e889f",
   "metadata": {},
   "outputs": [],
   "source": [
    "arr22[:,2]"
   ]
  },
  {
   "cell_type": "code",
   "execution_count": null,
   "id": "c763138e",
   "metadata": {},
   "outputs": [],
   "source": [
    "arr23 = np.arange(10)\n",
    "arr23"
   ]
  },
  {
   "cell_type": "code",
   "execution_count": null,
   "id": "a250e627",
   "metadata": {},
   "outputs": [],
   "source": [
    "# [start:end:step]\n",
    "arr23[2:9:3]"
   ]
  },
  {
   "cell_type": "code",
   "execution_count": null,
   "id": "a21317b3",
   "metadata": {},
   "outputs": [],
   "source": [
    "# cria 2 arrays\n",
    "a = np.array([1,2,3,4])\n",
    "b = np.array([4,2,2,4])"
   ]
  },
  {
   "cell_type": "code",
   "execution_count": null,
   "id": "25fb2829",
   "metadata": {},
   "outputs": [],
   "source": [
    "# comparação item a item\n",
    "a == b"
   ]
  },
  {
   "cell_type": "code",
   "execution_count": null,
   "id": "07b59ff5",
   "metadata": {},
   "outputs": [],
   "source": [
    "# comparação global\n",
    "np.array_equal(arr22,arr23)"
   ]
  },
  {
   "cell_type": "code",
   "execution_count": null,
   "id": "b6b3a0ae",
   "metadata": {},
   "outputs": [],
   "source": [
    "arr23.min()"
   ]
  },
  {
   "cell_type": "code",
   "execution_count": null,
   "id": "649d6674",
   "metadata": {},
   "outputs": [],
   "source": [
    "arr23.max()"
   ]
  },
  {
   "cell_type": "code",
   "execution_count": null,
   "id": "48fbc4fa",
   "metadata": {},
   "outputs": [],
   "source": [
    "# somando um valor a cada elemento do array \n",
    "np.array([1,2,3]) + 1.5"
   ]
  },
  {
   "cell_type": "code",
   "execution_count": null,
   "id": "455572b0",
   "metadata": {},
   "outputs": [],
   "source": [
    "# cria um array \n",
    "arr24 = np.array([1.2, 1.5, 1.6, 2.5, 3.5, 4.5])\n",
    "arr24"
   ]
  },
  {
   "cell_type": "code",
   "execution_count": null,
   "id": "cf4dbdac",
   "metadata": {},
   "outputs": [],
   "source": [
    "# usando o método around\n",
    "arr25 = np.around(arr24)\n",
    "arr25"
   ]
  },
  {
   "cell_type": "code",
   "execution_count": null,
   "id": "3b70ad8b",
   "metadata": {},
   "outputs": [],
   "source": [
    "# criando um array \n",
    "arr26 = np.array([[1,2,3,4],[5,6,7,8]])\n",
    "arr26"
   ]
  },
  {
   "cell_type": "markdown",
   "id": "1b6fdc71",
   "metadata": {},
   "source": [
    "O método flatten() com o numpy é usado para criar uma cópia unidimensional (ou 'achatada') de um array muntidimensional. Isso significa que o método cria um novo array unidimensional, que contém todos os elementos do array multidimensional original, mas que está organizado em uma única linha. A ordem dos elementos no novo array unidimensional segue a ordem dos elementos no array multidimensional original."
   ]
  },
  {
   "cell_type": "code",
   "execution_count": null,
   "id": "84cdf289",
   "metadata": {},
   "outputs": [],
   "source": [
    "# achatando a matriz\n",
    "arr27 = arr26.flatten()\n",
    "arr27"
   ]
  },
  {
   "cell_type": "code",
   "execution_count": null,
   "id": "19bb1edd",
   "metadata": {},
   "outputs": [],
   "source": [
    "# criando um array\n",
    "arr28 = np.array([1,2,3])\n",
    "arr28"
   ]
  },
  {
   "cell_type": "code",
   "execution_count": null,
   "id": "7824e18d",
   "metadata": {},
   "outputs": [],
   "source": [
    "# repetindo os elementos de um array (cada elemento X vezes)\n",
    "np.repeat(arr28, 3)"
   ]
  },
  {
   "cell_type": "code",
   "execution_count": null,
   "id": "872eeb16",
   "metadata": {},
   "outputs": [],
   "source": [
    "# repetindo os elementos de um array (pega a sequência, e repete X vezes)\n",
    "np.tile(arr28, 3)"
   ]
  },
  {
   "cell_type": "code",
   "execution_count": null,
   "id": "04f08184",
   "metadata": {},
   "outputs": [],
   "source": [
    "# criando um array\n",
    "arr29 = np.array([5,6])\n",
    "arr29"
   ]
  },
  {
   "cell_type": "code",
   "execution_count": null,
   "id": "f86aa222",
   "metadata": {},
   "outputs": [],
   "source": [
    "# CRIANDO CÓPIA\n",
    "arr30 = np.copy(arr29)\n",
    "arr30"
   ]
  }
 ],
 "metadata": {
  "kernelspec": {
   "display_name": "Python 3 (ipykernel)",
   "language": "python",
   "name": "python3"
  },
  "language_info": {
   "codemirror_mode": {
    "name": "ipython",
    "version": 3
   },
   "file_extension": ".py",
   "mimetype": "text/x-python",
   "name": "python",
   "nbconvert_exporter": "python",
   "pygments_lexer": "ipython3",
   "version": "3.9.13"
  }
 },
 "nbformat": 4,
 "nbformat_minor": 5
}
