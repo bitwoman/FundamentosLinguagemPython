{
 "cells": [
  {
   "cell_type": "markdown",
   "id": "251be882",
   "metadata": {},
   "source": [
    "# Linguagem Python Nível Básico - Visualização de Dados com Matplotlib e Seaborn"
   ]
  },
  {
   "cell_type": "markdown",
   "id": "d6e6923e",
   "metadata": {},
   "source": [
    "Matplotlib é uma biblioteca de visualização de dados em python amplamente utilizada para criar gráficos e visualizações de alta qualidade em diversas áreas, como ciência de dados, engenharia, finanças, estatística, entre outras. É uma biblioteca extremamente poderosa, flexível e personalizável, que permite a criação de gráficos em 2D e 3D, histogramas, diagramas de dispersão, gráficos de linhas, entre outros.\n",
    "\n",
    "Oferece uma grande variedade de estilos de plotagem, tipos de gráficos e configurações de plotagem para personalização de gráficos. Ele é compatível com vários formatos de arquivos de imagem, como PNG, PDF, SVG, entre outros, permitindo a geração de imagens de alta qualidade para uso em publicações e apresentações. \n",
    "\n",
    "Além disso, é de código aberto e gratuito, com uma comunidade ative de desenvolvedores e usuários, o que significa que há uma grande quantidade de documentação, exemplos e suporte disponíveis online."
   ]
  },
  {
   "cell_type": "code",
   "execution_count": null,
   "id": "ec36d2da",
   "metadata": {},
   "outputs": [],
   "source": [
    "import matplotlib as mlp"
   ]
  },
  {
   "cell_type": "code",
   "execution_count": null,
   "id": "284123ed",
   "metadata": {},
   "outputs": [],
   "source": [
    "mlp.__version__"
   ]
  },
  {
   "cell_type": "markdown",
   "id": "4864106a",
   "metadata": {},
   "source": [
    "## CONSTRUINDO PLOTS"
   ]
  },
  {
   "cell_type": "markdown",
   "id": "aca5c0c4",
   "metadata": {},
   "source": [
    "Plot é uma representação gráfica de dados em uma figura. Em outras palavras, é um gráfico que mostra a relação entre duas ou mais variáveis. Um plot pode ser criado usando uma biblioteca de visualização de dados, como o matplotlib em Python. \n",
    "\n",
    "Os tipos mais comuns de plots incluem gráficos de linhas, gráficos de dispersão, histogramas e gráficos de barras. Cada tipo de plot é adequado para diferentes tipos de dados e propósitos de visualização. Por exemplo, um gráfico de linhas é útil para visualizar tendências em uma série temporal, enquanto um gráfico de dispersão é útil para mostrar a relação entre duas variáveis contínuas. \n",
    "\n",
    "A criação de um plot envolve a escolha dos dados a serem plotados, a seleção do tipo de plot e a configuração das opções de plotagem, como tamanho da figura, rótulos de eixo, título, cores, entre outros. Um plot bem criado pode fornecer insight's valiosos sobre os dados, facilitando a compreensão e a comunicação das informações. "
   ]
  },
  {
   "cell_type": "code",
   "execution_count": null,
   "id": "be7d7e1a",
   "metadata": {},
   "outputs": [],
   "source": [
    "# pyplot é uma coleção de funções e estilo do matplotlib\n",
    "import matplotlib.pyplot as plt \n",
    "\n",
    "# para abrir o gráfico nessa mesma página\n",
    "%matplotlib inline "
   ]
  },
  {
   "cell_type": "code",
   "execution_count": null,
   "id": "45e889c9",
   "metadata": {},
   "outputs": [],
   "source": [
    "# o método plot() define os eixos do gráfico\n",
    "plt.plot([1,3,5],[2,4,7]) # cria na memória\n",
    "plt.show() #mostra na tela"
   ]
  },
  {
   "cell_type": "code",
   "execution_count": null,
   "id": "35cc184a",
   "metadata": {},
   "outputs": [],
   "source": [
    "x = [2,3,5]\n",
    "y = [3,5,7]"
   ]
  },
  {
   "cell_type": "code",
   "execution_count": null,
   "id": "33e72cbc",
   "metadata": {},
   "outputs": [],
   "source": [
    "# mesmo exemplo anterior, feito de maneira diferente\n",
    "plt.plot(x,y)\n",
    "plt.xlabel('Variável 1') # legenda\n",
    "plt.ylabel('Variável 2') # legenda\n",
    "plt.title('Teste Plot')  # título\n",
    "plt.show()"
   ]
  },
  {
   "cell_type": "code",
   "execution_count": null,
   "id": "1d44d015",
   "metadata": {},
   "outputs": [],
   "source": [
    "x2 = [1,2,3]\n",
    "y2 = [11,12,15]"
   ]
  },
  {
   "cell_type": "code",
   "execution_count": null,
   "id": "497c1901",
   "metadata": {},
   "outputs": [],
   "source": [
    "plt.plot(x2,y2, label = 'Gráfico com matplotlib')\n",
    "plt.legend() # coloca a label definida no plot com o traço que foi traçado no gráfico\n",
    "plt.show()"
   ]
  },
  {
   "cell_type": "markdown",
   "id": "ae7264b6",
   "metadata": {},
   "source": [
    "## GRÁFICO DE BARRAS\n",
    "\n",
    "É um tipo de plotagem usado para representar dados categóricos com barras retangulares. Cada barra representa uma categoria e a altura da barra representa a quantidade ou frequência da categoria. \n",
    "\n",
    "O eixo horizontal do gráfico de barras mostra as categorias e o eixo vertical mostra a escala de medida dos dados. As barras podem ser vertical ou horizontal, dependendo da preferência do usuário.\n",
    "\n",
    "Os gráficos de barras são comumente usados para comparar a quantidade ou frequência de diferentes categorias. Eles são úteis para mostrar diferenças entre grupos e ajudam a visualizar rapidamente quais categorias têm valores maiores ou menores."
   ]
  },
  {
   "cell_type": "code",
   "execution_count": null,
   "id": "18555d24",
   "metadata": {},
   "outputs": [],
   "source": [
    "x1 = [2,4,6,8,10]\n",
    "y1 = [6,7,8,2,4]"
   ]
  },
  {
   "cell_type": "code",
   "execution_count": null,
   "id": "5272f3b4",
   "metadata": {},
   "outputs": [],
   "source": [
    "plt.bar(x1, y1, label='Barras', color='green')\n",
    "plt.legend()\n",
    "plt.show()"
   ]
  },
  {
   "cell_type": "code",
   "execution_count": null,
   "id": "217fb24e",
   "metadata": {},
   "outputs": [],
   "source": [
    "x2 = [1,3,5,7,9]\n",
    "y2 = [7,8,2,4,2]"
   ]
  },
  {
   "cell_type": "code",
   "execution_count": null,
   "id": "1931f5d5",
   "metadata": {},
   "outputs": [],
   "source": [
    "# dois gráficos na mesma área de plotagem \n",
    "plt.bar(x1, y1, label='Listas1', color='blue')\n",
    "plt.bar(x2, y2, label='Listas2', color='red')\n",
    "plt.legend()\n",
    "plt.show()"
   ]
  },
  {
   "cell_type": "code",
   "execution_count": null,
   "id": "70ea9a13",
   "metadata": {},
   "outputs": [],
   "source": [
    "idades = [22,65,45,55,21,22,34,42,41,4,99,101,120,122,130,111,115,80,75,54,44,64,13,18,48]"
   ]
  },
  {
   "cell_type": "code",
   "execution_count": null,
   "id": "9f635c08",
   "metadata": {},
   "outputs": [],
   "source": [
    "ids = [x for x in range(len(idades))]\n",
    "print(ids)"
   ]
  },
  {
   "cell_type": "code",
   "execution_count": null,
   "id": "e0017983",
   "metadata": {},
   "outputs": [],
   "source": [
    "plt.bar(ids, idades)\n",
    "plt.show()"
   ]
  },
  {
   "cell_type": "code",
   "execution_count": null,
   "id": "d664a47b",
   "metadata": {},
   "outputs": [],
   "source": [
    "bins = [0,10,20,30,40,50,60,70,80,90,100,110,120,130]"
   ]
  },
  {
   "cell_type": "code",
   "execution_count": null,
   "id": "7666f4fe",
   "metadata": {
    "scrolled": true
   },
   "outputs": [],
   "source": [
    "# padrão de cor é azul\n",
    "plt.hist(idades, bins, histtype='bar', rwidth = 0.8)\n",
    "plt.show()"
   ]
  },
  {
   "cell_type": "code",
   "execution_count": null,
   "id": "e428cbb5",
   "metadata": {},
   "outputs": [],
   "source": [
    "# padrão de cor é azul.\n",
    "# stepfilled > sem espaços entre as barras\n",
    "plt.hist(idades, bins, histtype='stepfilled', rwidth = 0.8)\n",
    "plt.show()"
   ]
  },
  {
   "cell_type": "markdown",
   "id": "45261ef9",
   "metadata": {},
   "source": [
    "## GRÁFICO DE DISPERSÃO\n",
    "\n",
    "Também conhecido como gráfico de pontos, é um tipo de plotagem utilizado para representar a relação entre duas variáveis contínuas. Cada ponto no gráfico de dispersão representa um par de valores das duas variáveis, onde uma variável é plotada no eixo horizontal e outra no eixo vertical."
   ]
  },
  {
   "cell_type": "code",
   "execution_count": null,
   "id": "849f835b",
   "metadata": {},
   "outputs": [],
   "source": [
    "x = [1,2,3,4,5,6,7,8]\n",
    "y = [5,2,4,5,6,8,4,8]"
   ]
  },
  {
   "cell_type": "code",
   "execution_count": null,
   "id": "c152925a",
   "metadata": {},
   "outputs": [],
   "source": [
    "# marker > marcador no gráfico\n",
    "plt.scatter(x, y, label='Pontos', color='black', marker='o')\n",
    "plt.legend()\n",
    "plt.show()"
   ]
  },
  {
   "cell_type": "markdown",
   "id": "9537a958",
   "metadata": {},
   "source": [
    "## GRÁFICO DE ÁREA EMPILHADA\n",
    "\n",
    "Stack plots, também conhecidos como gráficos de área empilhada, são um tipo de plotagem usados para visualizar a mudança relativa de diversas variáveis ao longo do tempo. Eles consistem em várias áreas coloridas empilhadas umas sobre as outras, onde a altura de cada área representa a magnitude da variável correspondente e a largura representa a escala de tempo.\n",
    "\n",
    "Os stack plots são úteis para mostrar como as partes contribuem para o todo ao longo do tempo. Por exemplo, eles podem ser usados para visualizar a mudança relativa de diferentes setores de uma indústria ao longo do tempo, ou a distribuição relativa de receitas e desespesas de uma empresa em um determinado período."
   ]
  },
  {
   "cell_type": "code",
   "execution_count": null,
   "id": "bbbddcbc",
   "metadata": {},
   "outputs": [],
   "source": [
    "dias = [1,2,3,4,5]\n",
    "dormir = [7,8,6,77,7]\n",
    "comer = [2,3,4,5,3]\n",
    "trabalhar = [7,8,7,2,2]\n",
    "passear = [8,5,7,8,13]"
   ]
  },
  {
   "cell_type": "code",
   "execution_count": null,
   "id": "92d43b67",
   "metadata": {},
   "outputs": [],
   "source": [
    "plt.stackplot(dias, dormir, comer, trabalhar, passear, colors = ['m','c','r','k','b'])\n",
    "plt.show()"
   ]
  },
  {
   "cell_type": "markdown",
   "id": "2a868491",
   "metadata": {},
   "source": [
    "## GRÁFICO DE PIZZA\n",
    "\n",
    "Pie Plot, também conhecido como gráfico de setores, é um tipo de plotagem que representa a composição de uma variável categórica em relação ao todo. Ele é representado por um círculo dividido em fatias que representam as proporções relativas das categorias.\n",
    "\n",
    "Cada fatia do gráfico de pizza corresponde a uma categoria e sua área é proporcional à porcentagem que a categoria representa ao todo. A categoria mais representativa é geralmente posicionada na parte superior do círculo, enquanto as outras fatias são posicionadas em sentido horário. \n",
    "\n",
    "Os gráficos de pizza são comumente usados para mostrar a distribuição de dados em relação ao todo e para destacar as proporções relativas de diferentes categorias. Por exemplo, um gráfico de pizza pode ser usado para mostrar a distribuição de vendas por produto em uma empresa ou a distribuição de votos por partido em uma eleição."
   ]
  },
  {
   "cell_type": "code",
   "execution_count": null,
   "id": "6528e376",
   "metadata": {},
   "outputs": [],
   "source": [
    "fatias = [7, 2, 2, 13]\n",
    "atividades = ['dormir', 'comer', 'passear', 'trabalhar']\n",
    "cores = ['olive', 'lime', 'violet', 'royalblue']"
   ]
  },
  {
   "cell_type": "code",
   "execution_count": null,
   "id": "53aff348",
   "metadata": {},
   "outputs": [],
   "source": [
    "plt.pie(fatias, labels=atividades, colors=cores, startangle=90, shadow=True, explode = (0,0.2,0,0))\n",
    "plt.show()"
   ]
  },
  {
   "cell_type": "markdown",
   "id": "dbaaa19e",
   "metadata": {},
   "source": [
    "## CRIANDO GRÁFICOS CUSTOMIZADOS COM PYLAB\n",
    "\n",
    "Criando Gráficos Customizados com Pylab\n",
    "\n",
    "Pylab é um módulo fornecido pela biblioteca Matplotlib que combina a funcionalidade do pacote NumPy com a funcionalidade do pacote pyplot. Ele fornece um ambiente de plotagem interativo, permitindo que os usuários criem rapidamente gráficos e visualizações de dados.\n",
    "\n",
    "O módulo Pylab inclui muitas funções úteis para plotagem de gráficos, como funções para criar gráficos de linha, gráficos de dispersão, gráficos de barras, gráficos de pizza, histogramas e muito mais. Ele também fornece funções para personalizar as configurações de plotagem, como títulos de eixo, rótulos de eixo, títulos de gráfico e cores."
   ]
  },
  {
   "cell_type": "code",
   "execution_count": null,
   "id": "04c442f5",
   "metadata": {},
   "outputs": [],
   "source": [
    "# O Pylab combina funcionalidades do pyplot com funcionalidades do Numpy\n",
    "from pylab import *\n",
    "%matplotlib inline"
   ]
  },
  {
   "cell_type": "markdown",
   "id": "870cc88b",
   "metadata": {},
   "source": [
    "## Gráfico de Linha\n",
    "\n",
    "Gráfico de linha é um tipo de plotagem usado para representar a evolução do comportamento de uma variável com diferentes pontos de dados. O gráfico normalmente é usado com variáveis contínuas.\n",
    "\n",
    "No gráfico de linha, cada ponto de dados é representado por um ponto na linha. A linha conecta os pontos de dados.\n",
    "\n",
    "Os gráficos de linha são úteis para visualizar tendências e padrões em dados contínuos ao longo do tempo. Por exemplo, eles podem ser usados para mostrar a variação da temperatura ao longo de um período de tempo, a evolução da população em uma região ou a flutuação do valor de uma ação na bolsa de valores."
   ]
  },
  {
   "cell_type": "code",
   "execution_count": null,
   "id": "96e7ce34",
   "metadata": {},
   "outputs": [],
   "source": [
    "# Gráfico de linha\n",
    "\n",
    "# Dados\n",
    "x = linspace(0,5,10)\n",
    "y = x ** 2\n",
    "\n",
    "# cria a figura\n",
    "fig = plt.figure() # em memória, a área de plotagem\n",
    "\n",
    "# define a escala dos eixos\n",
    "axes = fig.add_axes([0,0,0.8,0.8])\n",
    "\n",
    "# cria o plot\n",
    "axes.plot(x,y, 'r')\n",
    "\n",
    "# labels e título\n",
    "axes.set_xlabel('x')\n",
    "axes.set_ylabel('y')\n",
    "axes.set_title('Gráfico de linha');"
   ]
  },
  {
   "cell_type": "code",
   "execution_count": null,
   "id": "e214f832",
   "metadata": {},
   "outputs": [],
   "source": [
    "# Gráficos de linha com 2 figuras\n",
    "\n",
    "# Dados\n",
    "x = linspace(0, 5, 10)\n",
    "y = x ** 2\n",
    "\n",
    "# Cria a figura\n",
    "fig = plt.figure()\n",
    "\n",
    "# Cria os eixos\n",
    "axes1 = fig.add_axes([0.1, 0.1, 0.8, 0.8]) # eixos da figura principal\n",
    "axes2 = fig.add_axes([0.2, 0.5, 0.4, 0.3]) # eixos da figura secundária\n",
    "\n",
    "# Figura principal\n",
    "axes1.plot(x, y, 'r')\n",
    "axes1.set_xlabel('x')\n",
    "axes1.set_ylabel('y')\n",
    "axes1.set_title('Figura Principal')\n",
    "\n",
    "# Figura secundária\n",
    "axes2.plot(y, x, 'g')\n",
    "axes2.set_xlabel('y')\n",
    "axes2.set_ylabel('x')\n",
    "axes2.set_title('Figura Secundária');"
   ]
  },
  {
   "cell_type": "code",
   "execution_count": null,
   "id": "0f7839cd",
   "metadata": {},
   "outputs": [],
   "source": [
    "# Gráficos de linha em Paralelo\n",
    "\n",
    "# Dados\n",
    "x = linspace(0, 5, 10)\n",
    "y = x ** 2\n",
    "\n",
    "# Divide a área de plotagem em dois subplots\n",
    "fig, axes = plt.subplots(nrows = 1, ncols = 2)\n",
    "\n",
    "# Loop pelos eixos para criar cada plot\n",
    "for ax in axes:\n",
    "    ax.plot(x, y, 'r')\n",
    "    ax.set_xlabel('x')\n",
    "    ax.set_ylabel('y')\n",
    "    ax.set_title('Título')\n",
    "    \n",
    "# Ajusta o layout\n",
    "fig.tight_layout()"
   ]
  },
  {
   "cell_type": "code",
   "execution_count": null,
   "id": "e17e8cea",
   "metadata": {},
   "outputs": [],
   "source": [
    "# Gráficos de linha com diferentes escalas\n",
    "\n",
    "# Dados\n",
    "x = linspace(0, 5, 10)\n",
    "y = x ** 2\n",
    "\n",
    "# Cria os subplots\n",
    "fig, axes = plt.subplots(1, 2, figsize = (10,4))\n",
    "      \n",
    "# Cria o plot1\n",
    "axes[0].plot(x, x**2, x, exp(x))\n",
    "axes[0].set_title(\"Escala Padrão\")\n",
    "\n",
    "# Cria o plot2\n",
    "axes[1].plot(x, x**2, x, exp(x))\n",
    "axes[1].set_yscale(\"log\")\n",
    "axes[1].set_title(\"Escala Logaritmica (y)\");"
   ]
  },
  {
   "cell_type": "code",
   "execution_count": null,
   "id": "b1ceb045",
   "metadata": {},
   "outputs": [],
   "source": [
    "# Grid\n",
    "\n",
    "# Dados\n",
    "x = linspace(0, 5, 10)\n",
    "y = x ** 2\n",
    "\n",
    "# Cria os subplots\n",
    "fig, axes = plt.subplots(1, 2, figsize = (10,3))\n",
    "\n",
    "# Grid padrão\n",
    "axes[0].plot(x, x**2, x, x**3, lw = 2)\n",
    "axes[0].grid(True)\n",
    "\n",
    "# Grid customizado\n",
    "axes[1].plot(x, x**2, x, x**3, lw = 2)\n",
    "axes[1].grid(color = 'b', alpha = 0.7, linestyle = 'dashed', linewidth = 0.8)"
   ]
  },
  {
   "cell_type": "code",
   "execution_count": null,
   "id": "acca9ff5",
   "metadata": {},
   "outputs": [],
   "source": [
    "# Diferentes estilos de Plots\n",
    "\n",
    "# Dados\n",
    "xx = np.linspace(-0.75, 1., 100)\n",
    "n = np.array([0,1,2,3,4,5])\n",
    "\n",
    "# Subplots\n",
    "fig, axes = plt.subplots(1, 4, figsize = (12,3))\n",
    "\n",
    "# Plot 1\n",
    "axes[0].scatter(xx, xx + 0.25 * randn(len(xx)), color = \"black\")\n",
    "axes[0].set_title(\"scatter\")\n",
    "\n",
    "# Plot 2\n",
    "axes[1].step(n, n ** 2, lw = 2, color = \"blue\")\n",
    "axes[1].set_title(\"step\")\n",
    "\n",
    "# Plot 3\n",
    "axes[2].bar(n, n ** 2, align = \"center\", width = 0.5, alpha = 0.5, color = \"magenta\")\n",
    "axes[2].set_title(\"bar\")\n",
    "\n",
    "# Plot 4\n",
    "axes[3].fill_between(x, x ** 2, x ** 3, alpha = 0.5, color = \"green\");\n",
    "axes[3].set_title(\"fill_between\");"
   ]
  },
  {
   "cell_type": "markdown",
   "id": "9eb509a9",
   "metadata": {},
   "source": [
    "## Histogramas\n",
    "\n",
    "Histogramas são um tipo de plotagem utilizado para visualizar a distribuição de uma variável contínua. Eles são compostos por barras retangulares adjacentes, onde a área de cada barra é proporcional à frequência de observações de dados que caem em uma faixa específica de valores.\n",
    "\n",
    "No histograma, a variável contínua é dividida em faixas de valores, conhecidas como intervalos de classe. O eixo horizontal representa os intervalos de classe, enquanto o eixo vertical representa a frequência de observações de dados que caem em cada intervalo de classe. Os intervalos de classe devem ser escolhidos de forma apropriada para a distribuição dos dados e a escala dos eixos deve ser definida adequadamente.\n",
    "\n",
    "Os histogramas são úteis para visualizar a forma e a dispersão de uma distribuição de dados contínuos, como a altura de uma população ou as pontuações de um teste. Eles podem ajudar a identificar a presença de valores atípicos ou outliers nos dados e fornecer insights importantes sobre a distribuição dos dados."
   ]
  },
  {
   "cell_type": "code",
   "execution_count": null,
   "id": "4272998d",
   "metadata": {},
   "outputs": [],
   "source": [
    "# Histogramas\n",
    "\n",
    "# Dados\n",
    "n = np.random.randn(100000)\n",
    "\n",
    "# Cria os subplots\n",
    "fig, axes = plt.subplots(1, 2, figsize = (12,4))\n",
    "\n",
    "# Plot 1\n",
    "axes[0].hist(n)\n",
    "axes[0].set_title(\"Histograma Padrão\")\n",
    "axes[0].set_xlim((min(n), max(n)))\n",
    "\n",
    "# Plot 2\n",
    "axes[1].hist(n, cumulative = True, bins = 50)\n",
    "axes[1].set_title(\"Histograma Cumulativo\")\n",
    "axes[1].set_xlim((min(n), max(n)));"
   ]
  },
  {
   "cell_type": "markdown",
   "id": "e55ae5bd",
   "metadata": {},
   "source": [
    "# Gráficos 3D"
   ]
  },
  {
   "cell_type": "code",
   "execution_count": null,
   "id": "1eca16ea",
   "metadata": {},
   "outputs": [],
   "source": [
    "#from mpl_toolkits.mplot3d.axes3d import Axes3D"
   ]
  },
  {
   "cell_type": "code",
   "execution_count": null,
   "id": "557ce448",
   "metadata": {},
   "outputs": [],
   "source": [
    "# Dados\n",
    "alpha = 0.7\n",
    "phi_ext = 2 * np.pi * 0.5\n",
    "\n",
    "# Função para um mapa de cores\n",
    "def ColorMap(phi_m, phi_p):\n",
    "    return ( + alpha - 2 * np.cos(phi_p)*cos(phi_m) - alpha * np.cos(phi_ext - 2*phi_p))\n",
    "\n",
    "# Mais dados\n",
    "phi_m = np.linspace(0, 2*np.pi, 100)\n",
    "phi_p = np.linspace(0, 2*np.pi, 100)\n",
    "X,Y = np.meshgrid(phi_p, phi_m)\n",
    "Z = ColorMap(X, Y).T"
   ]
  },
  {
   "cell_type": "code",
   "execution_count": null,
   "id": "fb1ff625",
   "metadata": {},
   "outputs": [],
   "source": [
    "# Cria a figura\n",
    "fig = plt.figure(figsize = (14,6))\n",
    "\n",
    "# Adiciona o subplot 1 com projeção 3d\n",
    "ax = fig.add_subplot(1, 2, 1, projection = '3d')\n",
    "p = ax.plot_surface(X, Y, Z, rstride=4, cstride=4, linewidth=0)\n",
    "\n",
    "# Adiciona o subplot 2 com projeção 3d\n",
    "ax = fig.add_subplot(1, 2, 2, projection = '3d')\n",
    "p = ax.plot_surface(X, Y, Z, rstride=1, cstride=1, cmap=cm.coolwarm, linewidth=0, antialiased=False)\n",
    "\n",
    "# Cria a barra de cores como legenda\n",
    "cb = fig.colorbar(p, shrink=0.5)"
   ]
  },
  {
   "cell_type": "code",
   "execution_count": null,
   "id": "a5f62862",
   "metadata": {},
   "outputs": [],
   "source": [
    "# Wire frame\n",
    "\n",
    "# Cria a figura\n",
    "fig = plt.figure(figsize=(8,6))\n",
    "\n",
    "# Subplot\n",
    "ax = fig.add_subplot(1, 1, 1, projection = '3d')\n",
    "\n",
    "# Wire frame\n",
    "p = ax.plot_wireframe(X, Y, Z, rstride=4, cstride=4)"
   ]
  }
 ],
 "metadata": {
  "kernelspec": {
   "display_name": "Python 3 (ipykernel)",
   "language": "python",
   "name": "python3"
  },
  "language_info": {
   "codemirror_mode": {
    "name": "ipython",
    "version": 3
   },
   "file_extension": ".py",
   "mimetype": "text/x-python",
   "name": "python",
   "nbconvert_exporter": "python",
   "pygments_lexer": "ipython3",
   "version": "3.9.13"
  }
 },
 "nbformat": 4,
 "nbformat_minor": 5
}
