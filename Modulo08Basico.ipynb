{
 "cells": [
  {
   "cell_type": "markdown",
   "id": "81736fcc",
   "metadata": {},
   "source": [
    "# CLASSES\n",
    "\n",
    "Em programação orientada à objetos, uma classe é uma estrutura que descreve um objeto, especificando os atributos e comportamentos que o objeto deve ter. Uma classe é uma espécie de modelo que define as características e ações que um objeto deve possuir.\n",
    "\n",
    "As classes são usadas para criar objetos, que são instâncias da classe. Cada objeto criado a partir da mesma classe terá os mesmos atributos e comportamentos."
   ]
  },
  {
   "cell_type": "markdown",
   "id": "00559b6c",
   "metadata": {},
   "source": [
    "Para criar uma classe em python, utiliza-se a palavra reservada **class**.\n",
    "O nome da classe segue a mesma convocação de nomes para criação de funções e variáveis em Python, mas normalmente se usa a primeira letra maiúscula em cada palavra no nome da classe."
   ]
  },
  {
   "cell_type": "code",
   "execution_count": 1,
   "id": "244ad5d6",
   "metadata": {},
   "outputs": [],
   "source": [
    "# Criando uma classe chamada Livro\n",
    "class Livro():\n",
    "    \n",
    "    # este método vai inicializar cada objeto criado a partir desta classe.\n",
    "    # o nome deste método é __init__\n",
    "    # self é uma referência a cada atributo da própria classe (e não de uma classe mãe, por exemplo)\n",
    "    # mais conhecido como CONSTRUTOR\n",
    "    \n",
    "    \n",
    "    def __init__(self):\n",
    "        \n",
    "        # atributos são propriedades\n",
    "        self.titulo = 'Sapiens - Uma breve história da humanidade'\n",
    "        self.isbn = 9988888\n",
    "        \n",
    "        print('Construtor chamado para criar um objeto desta classe')\n",
    "        \n",
    "    # método são funções que executam ações nos objetos da classe\n",
    "    def imprime(self):\n",
    "        print('Foi criado o livro %s com ISBN %d ' %(self.titulo, self.isbn))"
   ]
  },
  {
   "cell_type": "markdown",
   "id": "c7408367",
   "metadata": {},
   "source": [
    "Em python, a palavra reservada self é uma referência ao objeto atual da classe. Quando um objeto é criado a partir de uma classe, self é utilizado para se referir a esse objeto específico."
   ]
  },
  {
   "cell_type": "code",
   "execution_count": 2,
   "id": "372d718d",
   "metadata": {},
   "outputs": [
    {
     "name": "stdout",
     "output_type": "stream",
     "text": [
      "Construtor chamado para criar um objeto desta classe\n"
     ]
    }
   ],
   "source": [
    "# criando uma instância da classe livro\n",
    "livro1 = Livro()"
   ]
  },
  {
   "cell_type": "code",
   "execution_count": 3,
   "id": "d2272736",
   "metadata": {},
   "outputs": [
    {
     "data": {
      "text/plain": [
       "__main__.Livro"
      ]
     },
     "execution_count": 3,
     "metadata": {},
     "output_type": "execute_result"
    }
   ],
   "source": [
    "# o objeto livro1 é do tipo Livro\n",
    "type(livro1)"
   ]
  },
  {
   "cell_type": "code",
   "execution_count": 4,
   "id": "96aaba1b",
   "metadata": {},
   "outputs": [
    {
     "data": {
      "text/plain": [
       "'Sapiens - Uma breve história da humanidade'"
      ]
     },
     "execution_count": 4,
     "metadata": {},
     "output_type": "execute_result"
    }
   ],
   "source": [
    "# atributo do objeto livro1\n",
    "livro1.titulo"
   ]
  },
  {
   "cell_type": "code",
   "execution_count": 5,
   "id": "ad170a11",
   "metadata": {},
   "outputs": [
    {
     "name": "stdout",
     "output_type": "stream",
     "text": [
      "Foi criado o livro Sapiens - Uma breve história da humanidade com ISBN 9988888 \n"
     ]
    }
   ],
   "source": [
    "# método do objeto livro1 \n",
    "livro1.imprime()"
   ]
  },
  {
   "cell_type": "code",
   "execution_count": 6,
   "id": "9a9d9418",
   "metadata": {},
   "outputs": [],
   "source": [
    "# criando a classe livro com parâmetros no método construtor\n",
    "class Livro():\n",
    "    \n",
    "    def __init__(self, titulo, isbn):\n",
    "            self.titulo = titulo \n",
    "            self.isbn = isbn\n",
    "            \n",
    "            print('Construtor chamado para criar um objeto desta classe') \n",
    "            \n",
    "    def imprime(self, titulo, isbn):\n",
    "        print('Foi criado o livro %s com ISBN %d ' %(titulo, isbn))   "
   ]
  },
  {
   "cell_type": "code",
   "execution_count": 7,
   "id": "c7683fbb",
   "metadata": {},
   "outputs": [
    {
     "name": "stdout",
     "output_type": "stream",
     "text": [
      "Construtor chamado para criar um objeto desta classe\n"
     ]
    }
   ],
   "source": [
    "# criando o objeto livro2 que é uma instância da classe livro\n",
    "livro2 = Livro('O poder do hábito', 123456)"
   ]
  },
  {
   "cell_type": "code",
   "execution_count": 8,
   "id": "1e925afe",
   "metadata": {},
   "outputs": [
    {
     "data": {
      "text/plain": [
       "'O poder do hábito'"
      ]
     },
     "execution_count": 8,
     "metadata": {},
     "output_type": "execute_result"
    }
   ],
   "source": [
    "livro2.titulo"
   ]
  },
  {
   "cell_type": "code",
   "execution_count": 9,
   "id": "d2dd7841",
   "metadata": {},
   "outputs": [],
   "source": [
    "# criando uma classe\n",
    "class Funcionarios:\n",
    "    \n",
    "    def __init__(self, nome, salario, cargo):\n",
    "        self.nome = nome\n",
    "        self.salario = salario\n",
    "        self.cargo = cargo\n",
    "        \n",
    "    def listFunc(self):\n",
    "        print('Funcionária (o) ' + self.nome + ' tem salário de R$ ' + str(self.salario) + \n",
    "             ' e o cargo é ' + self.cargo)"
   ]
  },
  {
   "cell_type": "code",
   "execution_count": 10,
   "id": "cbda635d",
   "metadata": {},
   "outputs": [],
   "source": [
    "# criando um objeto chamado func1 a partir da classe funcionários\n",
    "func1 = Funcionarios('Mary', 2000, 'Cientista de Dados')"
   ]
  },
  {
   "cell_type": "code",
   "execution_count": 11,
   "id": "ba9207f5",
   "metadata": {},
   "outputs": [
    {
     "name": "stdout",
     "output_type": "stream",
     "text": [
      "Funcionária (o) Mary tem salário de R$ 2000 e o cargo é Cientista de Dados\n"
     ]
    }
   ],
   "source": [
    "# usando o método da classe\n",
    "func1.listFunc()"
   ]
  },
  {
   "cell_type": "code",
   "execution_count": 12,
   "id": "0c547363",
   "metadata": {},
   "outputs": [
    {
     "data": {
      "text/plain": [
       "True"
      ]
     },
     "execution_count": 12,
     "metadata": {},
     "output_type": "execute_result"
    }
   ],
   "source": [
    "# usando atributos: retorna um booleano determinado se existe determinado atributo passado como parâmetro. \n",
    "hasattr(func1, 'nome')"
   ]
  },
  {
   "cell_type": "code",
   "execution_count": 13,
   "id": "3c35fa11",
   "metadata": {},
   "outputs": [],
   "source": [
    "# ele insere para o func1 um novo salário de 4500\n",
    "setattr(func1, 'salario', 4500)"
   ]
  },
  {
   "cell_type": "code",
   "execution_count": 14,
   "id": "bca61cbb",
   "metadata": {},
   "outputs": [
    {
     "data": {
      "text/plain": [
       "4500"
      ]
     },
     "execution_count": 14,
     "metadata": {},
     "output_type": "execute_result"
    }
   ],
   "source": [
    "func1.salario"
   ]
  },
  {
   "cell_type": "code",
   "execution_count": 15,
   "id": "d3b556c0",
   "metadata": {},
   "outputs": [
    {
     "data": {
      "text/plain": [
       "4500"
      ]
     },
     "execution_count": 15,
     "metadata": {},
     "output_type": "execute_result"
    }
   ],
   "source": [
    "# ele retorna o valor do campo especificado no parâmetro\n",
    "getattr(func1, 'salario')"
   ]
  },
  {
   "cell_type": "code",
   "execution_count": 16,
   "id": "99be899d",
   "metadata": {},
   "outputs": [],
   "source": [
    "# ele deleta o campo salario\n",
    "delattr(func1, 'salario')"
   ]
  },
  {
   "cell_type": "code",
   "execution_count": 17,
   "id": "a654300e",
   "metadata": {},
   "outputs": [
    {
     "data": {
      "text/plain": [
       "False"
      ]
     },
     "execution_count": 17,
     "metadata": {},
     "output_type": "execute_result"
    }
   ],
   "source": [
    "hasattr(func1, 'salario')"
   ]
  },
  {
   "cell_type": "markdown",
   "id": "6465ca07",
   "metadata": {},
   "source": [
    "# TRABALHANDO COM MÉTODOS DE CLASSES EM PYTHON\n",
    "\n",
    "\n",
    "Em python, os métodos de classes são funções definidas dentro de uma classe, que realizam operações específicas em objetos criados a partir dessa classe. Os métodos de classes são usados para implementar o comportamento dos objetos que pertencem a essa classe.\n",
    "\n",
    "Assim como as funções em python, os métodos de classe podem receber argumentos e retornar valores. No entanto, diferentemente das funções normais, os métodos de classe sempre incluem o parâmetro self como primeiro argumento, que é usado para se referir ao objeto atual da classe.\n",
    "\n",
    "O método **init** é um método especial que é chamado quando um objeto é criado a partir da classe. Este método é usado para inicializar os atributos do objeto. Outros métodos podem ser definidos para executar tarefas específicas em um objeto, como calcular valores, realizar operações de entrada e saída, ou alterar o estado do seu objeto."
   ]
  },
  {
   "cell_type": "code",
   "execution_count": 18,
   "id": "2b949f56",
   "metadata": {},
   "outputs": [],
   "source": [
    "# criando uma classe chamada circulo\n",
    "class Circulo():\n",
    "    \n",
    "    # o valor de pi é constante\n",
    "    pi = 3.14\n",
    "    \n",
    "    # quando um objeto dessa classe for criado, este método será executado e o valor default do raio será 5\n",
    "    def __init__(self, raio = 5):\n",
    "        self.raio = raio\n",
    "        \n",
    "    # esse método calcula a área:\n",
    "    def area(self):\n",
    "        return (self.raio * self.raio) * Circulo.pi\n",
    "    \n",
    "    # GETTERS AND SETTERS\n",
    "    \n",
    "    # método para gerar um novo raio\n",
    "    def setRaio(self, novo_raio):\n",
    "        self.raio = novo_raio\n",
    "        \n",
    "    # método para obter o raio do círculo\n",
    "    def getRaio(self):\n",
    "        return self.raio"
   ]
  },
  {
   "cell_type": "code",
   "execution_count": 19,
   "id": "eb257cea",
   "metadata": {},
   "outputs": [],
   "source": [
    "# criando objeto circ, uma instância da classe Circulo\n",
    "circ = Circulo()"
   ]
  },
  {
   "cell_type": "code",
   "execution_count": 20,
   "id": "254b93f4",
   "metadata": {},
   "outputs": [
    {
     "data": {
      "text/plain": [
       "5"
      ]
     },
     "execution_count": 20,
     "metadata": {},
     "output_type": "execute_result"
    }
   ],
   "source": [
    "# executando um método da classe\n",
    "circ.getRaio()"
   ]
  },
  {
   "cell_type": "code",
   "execution_count": 21,
   "id": "79219b84",
   "metadata": {},
   "outputs": [
    {
     "data": {
      "text/plain": [
       "78.5"
      ]
     },
     "execution_count": 21,
     "metadata": {},
     "output_type": "execute_result"
    }
   ],
   "source": [
    "circ.area()"
   ]
  },
  {
   "cell_type": "code",
   "execution_count": 22,
   "id": "e0031db9",
   "metadata": {},
   "outputs": [],
   "source": [
    "# criando outro objeto chamado circ1. uma instância da classe circulo\n",
    "# agora, sobrescrevendo o valor do atributo\n",
    "circ1 = Circulo(7)"
   ]
  },
  {
   "cell_type": "code",
   "execution_count": 23,
   "id": "7049a1c3",
   "metadata": {},
   "outputs": [
    {
     "data": {
      "text/plain": [
       "7"
      ]
     },
     "execution_count": 23,
     "metadata": {},
     "output_type": "execute_result"
    }
   ],
   "source": [
    "circ1.getRaio()"
   ]
  },
  {
   "cell_type": "code",
   "execution_count": 24,
   "id": "a55c3d94",
   "metadata": {},
   "outputs": [],
   "source": [
    "# gerando um novo valor para o raio do círculo\n",
    "circ.setRaio(3)"
   ]
  },
  {
   "cell_type": "code",
   "execution_count": 25,
   "id": "755018a8",
   "metadata": {},
   "outputs": [
    {
     "data": {
      "text/plain": [
       "3"
      ]
     },
     "execution_count": 25,
     "metadata": {},
     "output_type": "execute_result"
    }
   ],
   "source": [
    "circ.getRaio()"
   ]
  },
  {
   "cell_type": "markdown",
   "id": "5d66ac1b",
   "metadata": {},
   "source": [
    "# HERANÇA DE CLASSES EM PYTHON\n",
    "\n",
    "A herança é um conceito que permite criar novas classes a partir de outras classes existentes, aproveitando os atributos e métodos da classe original e adicionando novos atributos e métodos específicos.\n",
    "\n",
    "A classe original é chamada de classe mãe ou super classe, e a nova é chamada de classe filha ou subclasse. \n",
    "\n",
    "A herança é uma técnica que permite reutilizar o código de maneira eficiente, pois, ao invés de criar uma nova classe do zero, a subclasse pode herdar todos os atributos e métodos da superclasse e adicionar apenas o que é necessário. Dessa forma, a subclasse pode se concentrar em fornecer funcionalidades adicionais sem precisar se preocupar com as características básicas da classe.\n",
    "\n",
    "Na herança, uma subclasse pode herdar os atributos e métodos da superclasse e substituí-los ou estendê-los conforme necessário. Por exemplo, uma subclasse pode ter um método com o mesmo nome de um método da superclasse, mas com um comportamento diferente."
   ]
  },
  {
   "cell_type": "code",
   "execution_count": 26,
   "id": "630cc76d",
   "metadata": {},
   "outputs": [],
   "source": [
    "# criando a classe animal - superclasse\n",
    "class Animal:\n",
    "    \n",
    "    def __init__(self):\n",
    "        print('Animal criado!')\n",
    "        \n",
    "    def imprimir(self):\n",
    "        print('Este é um animal')\n",
    "    \n",
    "    def comer(self):\n",
    "        print('Hora de comer')\n",
    "    \n",
    "    def emitir_som(self):\n",
    "        pass"
   ]
  },
  {
   "cell_type": "code",
   "execution_count": 27,
   "id": "d66af682",
   "metadata": {},
   "outputs": [],
   "source": [
    "# criando a classe Cachorro - subclasse de animal\n",
    "class Cachorro(Animal): # em java seria class Cachorro extends Animal\n",
    "    \n",
    "    def __init__(self):\n",
    "        Animal.__init__(self)\n",
    "        print('Cachorro criado')\n",
    "        \n",
    "    def emitir_som(self):\n",
    "        print('au au!')"
   ]
  },
  {
   "cell_type": "code",
   "execution_count": 28,
   "id": "461e7fa3",
   "metadata": {},
   "outputs": [],
   "source": [
    "# criando a classe gato - subclasse de animal\n",
    "class Gato(Animal):\n",
    "    \n",
    "    def __init__(self):\n",
    "        Animal.__init__(self)\n",
    "        print('Gato criado')\n",
    "        \n",
    "    def emitir_som(self): # o que vale é o método da subclasse, que sobrescreve a da superclasse\n",
    "        print('Miau!')"
   ]
  },
  {
   "cell_type": "code",
   "execution_count": 29,
   "id": "e89708dc",
   "metadata": {},
   "outputs": [
    {
     "name": "stdout",
     "output_type": "stream",
     "text": [
      "Animal criado!\n",
      "Gato criado\n",
      "Miau!\n",
      "Hora de comer\n"
     ]
    }
   ],
   "source": [
    "mia = Gato()\n",
    "mia.emitir_som()\n",
    "mia.comer()"
   ]
  },
  {
   "cell_type": "code",
   "execution_count": 30,
   "id": "bf6a3e3b",
   "metadata": {},
   "outputs": [
    {
     "name": "stdout",
     "output_type": "stream",
     "text": [
      "Animal criado!\n",
      "Cachorro criado\n",
      "au au!\n",
      "Hora de comer\n"
     ]
    }
   ],
   "source": [
    "eros = Cachorro()\n",
    "eros.emitir_som()\n",
    "eros.comer()"
   ]
  },
  {
   "cell_type": "markdown",
   "id": "dc9e45cd",
   "metadata": {},
   "source": [
    "# POLIMORFISMO\n",
    "\n",
    "Permite que objetos de diferentes classes possam ser tratados de forma uniforme. Isso significa que um objeto pode ser tratado como se fosse um objeto de uma superclasse, mesmo que ele seja de uma subclasse.\n",
    "\n",
    "Mais especificamente, o polimorfismo se refere à habilidade de um objeto responder de diferentes formas a uma mesma mensagem. Isso é possível porque as subclasses podem implementar métodos com o mesmo nome que os métodos da superclasse, mas com comportamentos diferentes.\n",
    "\n",
    "Com o polimorfismo, os mesmos atributos e métodos podem ser utilizados em objetos distintos, porém, com implementações lógicas diferentes."
   ]
  },
  {
   "cell_type": "code",
   "execution_count": 32,
   "id": "910ace1a",
   "metadata": {},
   "outputs": [],
   "source": [
    "# SUPER CLASSE\n",
    "class Veiculo:\n",
    "    \n",
    "    def __init__(self, marca, modelo):\n",
    "        self.marca = marca\n",
    "        self.modelo = modelo\n",
    "        \n",
    "    def acelerar(self):\n",
    "        pass\n",
    "    \n",
    "    def frear(self):\n",
    "        pass"
   ]
  },
  {
   "cell_type": "code",
   "execution_count": 33,
   "id": "5178908c",
   "metadata": {},
   "outputs": [],
   "source": [
    "# subclasse\n",
    "class Carro(Veiculo):\n",
    "    \n",
    "    def acelerar(self):\n",
    "        print('Carro acelerando')\n",
    "        \n",
    "    def frear(self):\n",
    "        print('Carro freando')"
   ]
  },
  {
   "cell_type": "code",
   "execution_count": 34,
   "id": "fb431bb9",
   "metadata": {},
   "outputs": [],
   "source": [
    "# subclasse\n",
    "class Moto(Veiculo):\n",
    "    \n",
    "    def acelerar(self):\n",
    "        print('Moto acelerando')\n",
    "        \n",
    "    def frear(self):\n",
    "        print('Moto freando')"
   ]
  },
  {
   "cell_type": "code",
   "execution_count": 35,
   "id": "0c64781a",
   "metadata": {},
   "outputs": [],
   "source": [
    "# subclasse\n",
    "class Aviao(Veiculo):\n",
    "    \n",
    "    def acelerar(self):\n",
    "        print('Avião acelerando')\n",
    "        \n",
    "    def frear(self):\n",
    "        print('Avião freando')\n",
    "        \n",
    "    def decolar(self):\n",
    "        print('Avião decolando')\n",
    "        "
   ]
  },
  {
   "cell_type": "code",
   "execution_count": 36,
   "id": "00b38c89",
   "metadata": {},
   "outputs": [],
   "source": [
    "# cria os objetos\n",
    "lista_veiculos = [Carro('Porshe','911 Turbo'), Moto('Honda','CB 1000R BLACK EDITION'), Aviao('Boeing','757')]"
   ]
  },
  {
   "cell_type": "code",
   "execution_count": 41,
   "id": "64339cae",
   "metadata": {},
   "outputs": [
    {
     "name": "stdout",
     "output_type": "stream",
     "text": [
      "Carro acelerando\n",
      "Carro freando\n",
      "----------------\n",
      "Moto acelerando\n",
      "Moto freando\n",
      "----------------\n",
      "Avião acelerando\n",
      "Avião freando\n",
      "Avião decolar\n",
      "----------------\n"
     ]
    }
   ],
   "source": [
    "for item in lista_veiculos:\n",
    "    \n",
    "    # o método acelerar tem comportamento diferente dependendo do tipo do objeto\n",
    "    item.acelerar()\n",
    "    \n",
    "    # método frear tem comportamento diferente dependendo do tipo do objeto\n",
    "    item.frear()\n",
    "    \n",
    "    # executamos o método decolar somente se o objeto for instância da classe avião\n",
    "    if isinstance(item, Aviao):\n",
    "        item.decolar()\n",
    "\n",
    "    print('----------------')    "
   ]
  },
  {
   "cell_type": "code",
   "execution_count": null,
   "id": "44491e06",
   "metadata": {},
   "outputs": [],
   "source": []
  }
 ],
 "metadata": {
  "kernelspec": {
   "display_name": "Python 3 (ipykernel)",
   "language": "python",
   "name": "python3"
  },
  "language_info": {
   "codemirror_mode": {
    "name": "ipython",
    "version": 3
   },
   "file_extension": ".py",
   "mimetype": "text/x-python",
   "name": "python",
   "nbconvert_exporter": "python",
   "pygments_lexer": "ipython3",
   "version": "3.9.13"
  }
 },
 "nbformat": 4,
 "nbformat_minor": 5
}
